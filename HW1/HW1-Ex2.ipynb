{
 "metadata": {
  "kernelspec": {
   "display_name": "Python 2",
   "language": "python",
   "name": "python2"
  },
  "language_info": {
   "codemirror_mode": {
    "name": "ipython",
    "version": 2
   },
   "file_extension": ".py",
   "mimetype": "text/x-python",
   "name": "python",
   "nbconvert_exporter": "python",
   "pygments_lexer": "ipython2",
   "version": "2.7.10"
  },
  "name": "",
  "signature": "sha256:3141ddc3e8a0dc44476e339fbb540d1c2c0a03af7fa64c104143e41531946744"
 },
 "nbformat": 3,
 "nbformat_minor": 0,
 "worksheets": [
  {
   "cells": [
    {
     "cell_type": "markdown",
     "metadata": {},
     "source": [
      "##Exercise 2: Linear Regression with multiple variables\n",
      "*In this exercise, I implement linear regression with multiple variables to predict the prices of houses. Uses feature normalization, gradient decent again, and the normal equations.*"
     ]
    },
    {
     "cell_type": "code",
     "collapsed": false,
     "input": [
      "from numpy import *\n",
      "from mpl_toolkits.mplot3d import Axes3D"
     ],
     "language": "python",
     "metadata": {},
     "outputs": [],
     "prompt_number": 1
    },
    {
     "cell_type": "code",
     "collapsed": false,
     "input": [
      "%pylab inline"
     ],
     "language": "python",
     "metadata": {},
     "outputs": [
      {
       "output_type": "stream",
       "stream": "stdout",
       "text": [
        "Populating the interactive namespace from numpy and matplotlib\n"
       ]
      }
     ],
     "prompt_number": 2
    },
    {
     "cell_type": "markdown",
     "metadata": {},
     "source": [
      "*Import data, this time there are two independent variables.*"
     ]
    },
    {
     "cell_type": "code",
     "collapsed": true,
     "input": [
      "data = genfromtxt('ex1data2.txt',delimiter=',')"
     ],
     "language": "python",
     "metadata": {},
     "outputs": [],
     "prompt_number": 3
    },
    {
     "cell_type": "code",
     "collapsed": false,
     "input": [
      "shape(data)"
     ],
     "language": "python",
     "metadata": {},
     "outputs": [
      {
       "metadata": {},
       "output_type": "pyout",
       "prompt_number": 4,
       "text": [
        "(47, 3)"
       ]
      }
     ],
     "prompt_number": 4
    },
    {
     "cell_type": "code",
     "collapsed": false,
     "input": [
      "X = data[:,0:2]\n",
      "y = array(data[:,2])"
     ],
     "language": "python",
     "metadata": {},
     "outputs": [],
     "prompt_number": 5
    },
    {
     "cell_type": "code",
     "collapsed": false,
     "input": [
      "y=y[:,newaxis]"
     ],
     "language": "python",
     "metadata": {},
     "outputs": [],
     "prompt_number": 6
    },
    {
     "cell_type": "code",
     "collapsed": false,
     "input": [
      "m = len(y)"
     ],
     "language": "python",
     "metadata": {},
     "outputs": [],
     "prompt_number": 7
    },
    {
     "cell_type": "code",
     "collapsed": false,
     "input": [
      "plot(X[:,0],y,'k.')\n",
      "xlabel('size (ft^2)')\n",
      "ylabel('house price ($)')"
     ],
     "language": "python",
     "metadata": {},
     "outputs": [
      {
       "metadata": {},
       "output_type": "pyout",
       "prompt_number": 8,
       "text": [
        "<matplotlib.text.Text at 0x5e5e290>"
       ]
      },
      {
       "metadata": {},
       "output_type": "display_data",
       "png": "[encoded data removed]",
       "text": [
        "<matplotlib.figure.Figure at 0x5e2ba10>"
       ]
      }
     ],
     "prompt_number": 8
    },
    {
     "cell_type": "code",
     "collapsed": false,
     "input": [
      "plot(X[:,1],y,'k.')\n",
      "xlabel('bedrooms')\n",
      "ylabel('house price ($)')"
     ],
     "language": "python",
     "metadata": {},
     "outputs": [
      {
       "metadata": {},
       "output_type": "pyout",
       "prompt_number": 9,
       "text": [
        "<matplotlib.text.Text at 0x5e2b9f0>"
       ]
      },
      {
       "metadata": {},
       "output_type": "display_data",
       "png": "[encoded data removed]",
       "text": [
        "<matplotlib.figure.Figure at 0x5ec4770>"
       ]
      }
     ],
     "prompt_number": 9
    },
    {
     "cell_type": "markdown",
     "metadata": {},
     "source": [
      "*Because the independent variables have such different scales, we have to normalize them to have the same mean (0) and standard deviation (1).*"
     ]
    },
    {
     "cell_type": "code",
     "collapsed": false,
     "input": [
      "def featureNormalize(X):\n",
      "    mu = mean(X,axis=0)\n",
      "    sigma = std(X,axis=0)\n",
      "    X_norm = (X-mu)/sigma\n",
      "    return (X_norm, mu, sigma)"
     ],
     "language": "python",
     "metadata": {},
     "outputs": [],
     "prompt_number": 10
    },
    {
     "cell_type": "code",
     "collapsed": false,
     "input": [
      "X_norm, mu, sigma = featureNormalize(X)\n",
      "print mean(X_norm,axis=0)\n",
      "print std(X_norm,axis=0)"
     ],
     "language": "python",
     "metadata": {},
     "outputs": [
      {
       "output_type": "stream",
       "stream": "stdout",
       "text": [
        "[ -9.44870659e-18   2.48028548e-16]\n",
        "[ 1.  1.]\n"
       ]
      }
     ],
     "prompt_number": 11
    },
    {
     "cell_type": "markdown",
     "metadata": {},
     "source": [
      "*Now the features have roughly the same scale*"
     ]
    },
    {
     "cell_type": "code",
     "collapsed": false,
     "input": [
      "plot(X_norm[:,0],X_norm[:,1],'k.')\n",
      "xlabel('size')\n",
      "ylabel('bedrooms')"
     ],
     "language": "python",
     "metadata": {},
     "outputs": [
      {
       "metadata": {},
       "output_type": "pyout",
       "prompt_number": 12,
       "text": [
        "<matplotlib.text.Text at 0x5f5c9d0>"
       ]
      },
      {
       "metadata": {},
       "output_type": "display_data",
       "png": "[encoded data removed]",
       "text": [
        "<matplotlib.figure.Figure at 0x5eea970>"
       ]
      }
     ],
     "prompt_number": 12
    },
    {
     "cell_type": "markdown",
     "metadata": {},
     "source": [
      "*Add the constant vector to X_norm for finding the intercept with linear regression.*"
     ]
    },
    {
     "cell_type": "code",
     "collapsed": false,
     "input": [
      "x0 = ones((m,1))\n",
      "shape(x0)\n",
      "X_norm = concatenate((x0,X_norm),1)"
     ],
     "language": "python",
     "metadata": {},
     "outputs": [],
     "prompt_number": 13
    },
    {
     "cell_type": "markdown",
     "metadata": {},
     "source": [
      "*Define the cost function, and a multi-variable gradient descent function*"
     ]
    },
    {
     "cell_type": "code",
     "collapsed": true,
     "input": [
      "def compute_cost(X,y,theta):\n",
      "    m = len(y)\n",
      "    J = sum((y-dot(X,theta).T)**2)/2/m\n",
      "    return J"
     ],
     "language": "python",
     "metadata": {},
     "outputs": [],
     "prompt_number": 14
    },
    {
     "cell_type": "code",
     "collapsed": true,
     "input": [
      "def gradientDescentMulti(X, y, theta0, alpha, num_iters):\n",
      "    theta = copy(theta0)\n",
      "    m = len(y)\n",
      "    J_history = zeros(num_iters)\n",
      "    \"\"\" iterate over the max number of iterations \"\"\"\n",
      "    for ii in range(0,num_iters):\n",
      "        J_history[ii] = compute_cost(X,y,theta)\n",
      "        dJ = dot(X_norm.T,y-dot(X_norm,theta))/m\n",
      "        theta = theta + alpha*dJ\n",
      "    return (theta,J_history)"
     ],
     "language": "python",
     "metadata": {},
     "outputs": [],
     "prompt_number": 15
    },
    {
     "cell_type": "markdown",
     "metadata": {},
     "source": [
      "*Initialize the parameter vector*"
     ]
    },
    {
     "cell_type": "code",
     "collapsed": false,
     "input": [
      "theta0 = [[0],[0],[0]]"
     ],
     "language": "python",
     "metadata": {},
     "outputs": [],
     "prompt_number": 16
    },
    {
     "cell_type": "code",
     "collapsed": true,
     "input": [
      "alpha = 0.01\n",
      "num_iters = 600"
     ],
     "language": "python",
     "metadata": {},
     "outputs": [],
     "prompt_number": 17
    },
    {
     "cell_type": "markdown",
     "metadata": {},
     "source": [
      "*Run gradient denscent*"
     ]
    },
    {
     "cell_type": "code",
     "collapsed": false,
     "input": [
      "theta, J_history = gradientDescentMulti(X_norm, y, theta0, alpha, num_iters)\n",
      "theta"
     ],
     "language": "python",
     "metadata": {},
     "outputs": [
      {
       "metadata": {},
       "output_type": "pyout",
       "prompt_number": 18,
       "text": [
        "array([[ 339593.96396531],\n",
        "       [ 105328.65385743],\n",
        "       [  -2467.44103638]])"
       ]
      }
     ],
     "prompt_number": 18
    },
    {
     "cell_type": "markdown",
     "metadata": {},
     "source": [
      "*Check convergence with different values of the learning rate, alpha*"
     ]
    },
    {
     "cell_type": "code",
     "collapsed": false,
     "input": [
      "c = ['k','b','r','g','m','c','k','b','r','g','m','c']\n",
      "alpha_v = logspace(-3,1,9)\n",
      "for id, alpha in enumerate(alpha_v):\n",
      "    theta, J_history = gradientDescentMulti(X_norm, y, theta0, alpha, num_iters)\n",
      "    plot(J_history,c[id])\n",
      "ylim(0,4e12)\n",
      "xlim(0,20)\n",
      "legend(alpha_v)\n",
      "xlabel('iterations')\n",
      "ylabel('cost')"
     ],
     "language": "python",
     "metadata": {},
     "outputs": [
      {
       "output_type": "stream",
       "stream": "stderr",
       "text": [
        "-c:3: RuntimeWarning: overflow encountered in square\n"
       ]
      },
      {
       "metadata": {},
       "output_type": "pyout",
       "prompt_number": 19,
       "text": [
        "<matplotlib.text.Text at 0x85d3710>"
       ]
      },
      {
       "metadata": {},
       "output_type": "display_data",
       "png": "[encoded data removed]",
       "text": [
        "<matplotlib.figure.Figure at 0x5f6a390>"
       ]
      }
     ],
     "prompt_number": 19
    },
    {
     "cell_type": "code",
     "collapsed": false,
     "input": [
      "theta, J_history = gradientDescentMulti(X_norm, y, theta0, alpha, num_iters)"
     ],
     "language": "python",
     "metadata": {},
     "outputs": [],
     "prompt_number": 20
    },
    {
     "cell_type": "markdown",
     "metadata": {},
     "source": [
      "*Make a prediction for the house price of a 1650ft^2, 3 bedroom house. First, must convert these parameters to their normalized values.*"
     ]
    },
    {
     "cell_type": "code",
     "collapsed": false,
     "input": [
      "xp = [1650,3]\n",
      "xpn = (xp-mu)/sigma\n",
      "xpn = hstack(([1],xpn))\n",
      "xpn"
     ],
     "language": "python",
     "metadata": {},
     "outputs": [
      {
       "metadata": {},
       "output_type": "pyout",
       "prompt_number": 21,
       "text": [
        "array([ 1.        , -0.44604386, -0.22609337])"
       ]
      }
     ],
     "prompt_number": 21
    },
    {
     "cell_type": "code",
     "collapsed": false,
     "input": [
      "yp = dot(theta.T,xpn)\n",
      "yp"
     ],
     "language": "python",
     "metadata": {},
     "outputs": [
      {
       "metadata": {},
       "output_type": "pyout",
       "prompt_number": 22,
       "text": [
        "array([ nan])"
       ]
      }
     ],
     "prompt_number": 22
    },
    {
     "cell_type": "code",
     "collapsed": false,
     "input": [
      "print 'The predicted price for a 1650sq.ft house with three bedrooms is $%2.0f' % yp[0]"
     ],
     "language": "python",
     "metadata": {},
     "outputs": [
      {
       "output_type": "stream",
       "stream": "stdout",
       "text": [
        "The predicted price for a 1650sq.ft house with three bedrooms is $nan\n"
       ]
      }
     ],
     "prompt_number": 23
    },
    {
     "cell_type": "markdown",
     "metadata": {},
     "source": [
      "*Do the same calculation now by solving the normal equations. It is not necessary to use feature normalization.*"
     ]
    },
    {
     "cell_type": "code",
     "collapsed": false,
     "input": [
      "X = hstack((x0,X))"
     ],
     "language": "python",
     "metadata": {},
     "outputs": [],
     "prompt_number": 24
    },
    {
     "cell_type": "code",
     "collapsed": false,
     "input": [
      "shape(X)"
     ],
     "language": "python",
     "metadata": {},
     "outputs": [
      {
       "metadata": {},
       "output_type": "pyout",
       "prompt_number": 25,
       "text": [
        "(47, 3)"
       ]
      }
     ],
     "prompt_number": 25
    },
    {
     "cell_type": "markdown",
     "metadata": {},
     "source": [
      "*Find theta from normal equations (they are different numbers because I didn't do feature scaling)*"
     ]
    },
    {
     "cell_type": "code",
     "collapsed": false,
     "input": [
      "theta_ne = dot(inv(dot(X.T,X)),dot(X.T,y))\n",
      "theta_ne"
     ],
     "language": "python",
     "metadata": {},
     "outputs": [
      {
       "metadata": {},
       "output_type": "pyout",
       "prompt_number": 26,
       "text": [
        "array([[ 89597.9095428 ],\n",
        "       [   139.21067402],\n",
        "       [ -8738.01911233]])"
       ]
      }
     ],
     "prompt_number": 26
    },
    {
     "cell_type": "markdown",
     "metadata": {},
     "source": [
      "*Check that it predicts the same house price as the gradient descent algorithm fit*"
     ]
    },
    {
     "cell_type": "code",
     "collapsed": false,
     "input": [
      "yp_ne = dot(theta_ne.T,[1,1650,3])\n",
      "yp_ne"
     ],
     "language": "python",
     "metadata": {},
     "outputs": [
      {
       "metadata": {},
       "output_type": "pyout",
       "prompt_number": 27,
       "text": [
        "array([ 293081.4643349])"
       ]
      }
     ],
     "prompt_number": 27
    },
    {
     "cell_type": "code",
     "collapsed": false,
     "input": [
      "print 'The predicted price for a 1650sq.ft house with three bedrooms is $%2.0f' % yp_ne[0]"
     ],
     "language": "python",
     "metadata": {},
     "outputs": [
      {
       "output_type": "stream",
       "stream": "stdout",
       "text": [
        "The predicted price for a 1650sq.ft house with three bedrooms is $293081\n"
       ]
      }
     ],
     "prompt_number": 28
    }
   ],
   "metadata": {}
  }
 ]
}