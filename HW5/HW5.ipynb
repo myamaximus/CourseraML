{
 "cells": [
  {
   "cell_type": "markdown",
   "metadata": {},
   "source": [
    "## Regularized Linear Regression and Bias v.s. Variance\n",
    "*Implement regularized linear regression and use it to study models with di\u000b",
    "erent bias-variance properties*"
   ]
  },
  {
   "cell_type": "code",
   "execution_count": 1,
   "metadata": {
    "collapsed": false
   },
   "outputs": [
    {
     "name": "stdout",
     "output_type": "stream",
     "text": [
      "Populating the interactive namespace from numpy and matplotlib\n"
     ]
    }
   ],
   "source": [
    "from numpy import *\n",
    "%pylab inline\n",
    "import scipy.optimize as op\n",
    "import pandas as pd\n",
    "import os\n",
    "import scipy.io as sio"
   ]
  },
  {
   "cell_type": "markdown",
   "metadata": {},
   "source": [
    "*Import data*"
   ]
  },
  {
   "cell_type": "code",
   "execution_count": 2,
   "metadata": {
    "collapsed": false
   },
   "outputs": [],
   "source": [
    "data = sio.loadmat(\"ex5data1.mat\")"
   ]
  },
  {
   "cell_type": "code",
   "execution_count": 3,
   "metadata": {
    "collapsed": false
   },
   "outputs": [
    {
     "data": {
      "text/plain": [
       "['ytest',\n",
       " 'yval',\n",
       " '__header__',\n",
       " '__globals__',\n",
       " 'Xtest',\n",
       " 'Xval',\n",
       " 'y',\n",
       " 'X',\n",
       " '__version__']"
      ]
     },
     "execution_count": 3,
     "metadata": {},
     "output_type": "execute_result"
    }
   ],
   "source": [
    "data.keys()"
   ]
  },
  {
   "cell_type": "code",
   "execution_count": 4,
   "metadata": {
    "collapsed": false
   },
   "outputs": [],
   "source": [
    "X = data[\"X\"] # training data\n",
    "y = data[\"y\"]\n",
    "\n",
    "Xval = data[\"Xval\"] # cross-validation data for determining the regularization parameter\n",
    "yval = data[\"yval\"]\n",
    "\n",
    "Xtest = data[\"Xtest\"] # test data to evaluate the performance of the model\n",
    "ytest = data[\"ytest\"]"
   ]
  },
  {
   "cell_type": "code",
   "execution_count": 5,
   "metadata": {
    "collapsed": false
   },
   "outputs": [
    {
     "data": {
      "text/plain": [
       "((12L, 1L), (12L, 1L), (21L, 1L), (21L, 1L))"
      ]
     },
     "execution_count": 5,
     "metadata": {},
     "output_type": "execute_result"
    }
   ],
   "source": [
    "X.shape, y.shape, Xval.shape, Xtest.shape"
   ]
  },
  {
   "cell_type": "code",
   "execution_count": 6,
   "metadata": {
    "collapsed": false
   },
   "outputs": [],
   "source": [
    "# number of examples\n",
    "m = len(y)"
   ]
  },
  {
   "cell_type": "markdown",
   "metadata": {},
   "source": [
    "*Visualize test data*"
   ]
  },
  {
   "cell_type": "code",
   "execution_count": 7,
   "metadata": {
    "collapsed": false
   },
   "outputs": [
    {
     "data": {
      "text/plain": [
       "[<matplotlib.lines.Line2D at 0x1ae46828>]"
      ]
     },
     "execution_count": 7,
     "metadata": {},
     "output_type": "execute_result"
    },
    {
     "data": {
      "image/png": "[encoded data removed]",
      "text/plain": [
       "<matplotlib.figure.Figure at 0x1ad10ef0>"
      ]
     },
     "metadata": {},
     "output_type": "display_data"
    }
   ],
   "source": [
    "figure\n",
    "plot(X,y,'k.')"
   ]
  },
  {
   "cell_type": "markdown",
   "metadata": {},
   "source": [
    "*Define cost function, gradient for regularized linear regression*"
   ]
  },
  {
   "cell_type": "code",
   "execution_count": 8,
   "metadata": {
    "collapsed": false
   },
   "outputs": [],
   "source": [
    "def Evaluate(theta,X):\n",
    "    theta = expand_dims(theta,axis=1)\n",
    "    return dot(X,theta)"
   ]
  },
  {
   "cell_type": "code",
   "execution_count": 9,
   "metadata": {
    "collapsed": false
   },
   "outputs": [],
   "source": [
    "def Cost(theta,X,y,LR):\n",
    "    # mean squared difference\n",
    "    theta = expand_dims(theta,axis=1)\n",
    "    cost = sum((dot(X,theta)-y)**2)\n",
    "    # regularization: sum of parameters (minus the first one)\n",
    "    cost += LR*sum(theta[1:]**2)\n",
    "    cost = cost/(2*len(y))\n",
    "    return cost"
   ]
  },
  {
   "cell_type": "code",
   "execution_count": 10,
   "metadata": {
    "collapsed": true
   },
   "outputs": [],
   "source": [
    "X1 = insert(X, 0, values=ones(m), axis=1)\n",
    "theta1 = ones((2))"
   ]
  },
  {
   "cell_type": "code",
   "execution_count": 11,
   "metadata": {
    "collapsed": false
   },
   "outputs": [
    {
     "data": {
      "text/plain": [
       "303.99319222026429"
      ]
     },
     "execution_count": 11,
     "metadata": {},
     "output_type": "execute_result"
    }
   ],
   "source": [
    "Cost(theta1,X1,y,1)"
   ]
  },
  {
   "cell_type": "code",
   "execution_count": 12,
   "metadata": {
    "collapsed": false
   },
   "outputs": [],
   "source": [
    "def gradient(theta,X,y,LR):\n",
    "    m = len(y)\n",
    "    theta = expand_dims(theta,axis=1)\n",
    "    theta0 = copy(theta)\n",
    "    theta0[0,0]=0\n",
    "    #print(theta0)\n",
    "    #print((dot(X,theta)-y))\n",
    "    #print(dot(X.T,(dot(X,theta)-y)))\n",
    "\n",
    "    grad = (dot(X.T,(dot(X,theta)-y))+LR*theta0)/m\n",
    "    return grad"
   ]
  },
  {
   "cell_type": "code",
   "execution_count": 13,
   "metadata": {
    "collapsed": false
   },
   "outputs": [
    {
     "data": {
      "text/plain": [
       "array([[ -15.30301567],\n",
       "       [ 598.25074417]])"
      ]
     },
     "execution_count": 13,
     "metadata": {},
     "output_type": "execute_result"
    }
   ],
   "source": [
    "gradient(theta1,X1,y,1)"
   ]
  },
  {
   "cell_type": "markdown",
   "metadata": {},
   "source": [
    "*Define function to find parameters theta (fmin.x) by minimizing cost.*"
   ]
  },
  {
   "cell_type": "code",
   "execution_count": 14,
   "metadata": {
    "collapsed": false
   },
   "outputs": [],
   "source": [
    "def trainLinearRegression(X,y,LR):\n",
    "    theta0 = zeros((shape(X)[1]))\n",
    "    fmin = op.minimize(fun=Cost, x0=theta0, args=(X, y, LR), method='TNC', jac=gradient, options={'maxiter': 350})\n",
    "    #print(fmin.success)\n",
    "    return fmin.x"
   ]
  },
  {
   "cell_type": "markdown",
   "metadata": {},
   "source": [
    "*Find best fit parameters theta*"
   ]
  },
  {
   "cell_type": "code",
   "execution_count": 15,
   "metadata": {
    "collapsed": false
   },
   "outputs": [
    {
     "data": {
      "text/plain": [
       "array([ 13.08790351,   0.36777923])"
      ]
     },
     "execution_count": 15,
     "metadata": {},
     "output_type": "execute_result"
    }
   ],
   "source": [
    "theta = trainLinearRegression(X1,y,0)\n",
    "theta"
   ]
  },
  {
   "cell_type": "markdown",
   "metadata": {},
   "source": [
    "*A line is obviously not a good fit to the data*"
   ]
  },
  {
   "cell_type": "code",
   "execution_count": 16,
   "metadata": {
    "collapsed": false
   },
   "outputs": [
    {
     "data": {
      "text/plain": [
       "[<matplotlib.lines.Line2D at 0x1d016a20>]"
      ]
     },
     "execution_count": 16,
     "metadata": {},
     "output_type": "execute_result"
    },
    {
     "data": {
      "image/png": "[encoded data removed]",
      "text/plain": [
       "<matplotlib.figure.Figure at 0x1afbb6a0>"
      ]
     },
     "metadata": {},
     "output_type": "display_data"
    }
   ],
   "source": [
    "figure\n",
    "plot(X,y,'rx')\n",
    "yf = Evaluate(theta,X1)\n",
    "plot(X,yf,'b')"
   ]
  },
  {
   "cell_type": "markdown",
   "metadata": {},
   "source": [
    "*Define learning curve function: To plot the learning curve, we need a training and cross validation set error for different training set sizes. To obtain different training set sizes, use different subsets of the original training set X.*"
   ]
  },
  {
   "cell_type": "code",
   "execution_count": 17,
   "metadata": {
    "collapsed": false
   },
   "outputs": [],
   "source": [
    "def learningCurve(X, y, Xval, yval, LR):\n",
    "    m = len(y)\n",
    "    \n",
    "    # add constant term to X\n",
    "    X = insert(X, 0, values=ones(m), axis=1)\n",
    "    Xval = insert(Xval, 0, values=ones(len(Xval)), axis=1)\n",
    "    \n",
    "    # take each subset\n",
    "    error_train = zeros(m-1)\n",
    "    error_val = zeros(m-1)\n",
    "    for ii in range(2,m+1):\n",
    "        Xsub = X[:ii,:]\n",
    "        ysub = y[:ii,:]\n",
    "        \n",
    "        # fit to find theta\n",
    "        theta = trainLinearRegression(Xsub,ysub,LR)\n",
    "        error_train[ii-2] = Cost(theta,Xsub,ysub,0)\n",
    "        error_val[ii-2] = Cost(theta,Xval,yval,0)\n",
    "    \n",
    "    return error_train, error_val"
   ]
  },
  {
   "cell_type": "markdown",
   "metadata": {},
   "source": [
    "*Plot the training set and validation set error vs. the size of the training set. The learning curve reflects high bias because the training and cross-validation error remain high as the training set size increases.*"
   ]
  },
  {
   "cell_type": "code",
   "execution_count": 18,
   "metadata": {
    "collapsed": false
   },
   "outputs": [],
   "source": [
    "(error_train, error_val) = learningCurve(X, y, Xval, yval, 0)"
   ]
  },
  {
   "cell_type": "code",
   "execution_count": 19,
   "metadata": {
    "collapsed": false
   },
   "outputs": [
    {
     "data": {
      "text/plain": [
       "[2, 3, 4, 5, 6, 7, 8, 9, 10, 11, 12]"
      ]
     },
     "execution_count": 19,
     "metadata": {},
     "output_type": "execute_result"
    }
   ],
   "source": [
    "n = range(2,len(y)+1)\n",
    "n"
   ]
  },
  {
   "cell_type": "code",
   "execution_count": 20,
   "metadata": {
    "collapsed": false
   },
   "outputs": [
    {
     "data": {
      "text/plain": [
       "<matplotlib.legend.Legend at 0x1d403ba8>"
      ]
     },
     "execution_count": 20,
     "metadata": {},
     "output_type": "execute_result"
    },
    {
     "data": {
      "image/png": "[encoded data removed]",
      "text/plain": [
       "<matplotlib.figure.Figure at 0x1d0ecf28>"
      ]
     },
     "metadata": {},
     "output_type": "display_data"
    }
   ],
   "source": [
    "figure\n",
    "p1, = plot(n,error_train)\n",
    "p2, = plot(n,error_val)\n",
    "xlabel('Training set size')\n",
    "ylabel('Error')\n",
    "legend([p1,p2],['training set','validation set'])"
   ]
  },
  {
   "cell_type": "markdown",
   "metadata": {},
   "source": [
    "*Add polynomial features up to degree 8 (and feature normalization) to improve the quality of fit.*"
   ]
  },
  {
   "cell_type": "code",
   "execution_count": 21,
   "metadata": {
    "collapsed": false
   },
   "outputs": [],
   "source": [
    "def polyFeatures(X,p):\n",
    "    Xp = zeros((len(X),p))\n",
    "    for ii in range(0,p):\n",
    "        Xp[:,ii] = X[:,0]**(ii+1)\n",
    "    return Xp"
   ]
  },
  {
   "cell_type": "code",
   "execution_count": 22,
   "metadata": {
    "collapsed": false
   },
   "outputs": [],
   "source": [
    "def featureNormalize(X):\n",
    "    mu = mean(X,axis=0)\n",
    "    sigma = std(X,axis=0)\n",
    "    X_norm = (X-mu)/sigma\n",
    "    return X_norm, mu, sigma"
   ]
  },
  {
   "cell_type": "code",
   "execution_count": 23,
   "metadata": {
    "collapsed": false
   },
   "outputs": [
    {
     "data": {
      "text/plain": [
       "(12L, 8L)"
      ]
     },
     "execution_count": 23,
     "metadata": {},
     "output_type": "execute_result"
    }
   ],
   "source": [
    "X8 = polyFeatures(X,8)\n",
    "(X_norm, mu, sigma) = featureNormalize(X8)\n",
    "Xn = insert(X_norm, 0, values=ones(len(y)), axis=1)\n",
    "X_norm.shape"
   ]
  },
  {
   "cell_type": "code",
   "execution_count": 24,
   "metadata": {
    "collapsed": false
   },
   "outputs": [],
   "source": [
    "theta = trainLinearRegression(Xn,y,1)"
   ]
  },
  {
   "cell_type": "code",
   "execution_count": 25,
   "metadata": {
    "collapsed": false
   },
   "outputs": [
    {
     "data": {
      "text/plain": [
       "(21L, 8L)"
      ]
     },
     "execution_count": 25,
     "metadata": {},
     "output_type": "execute_result"
    }
   ],
   "source": [
    "Xval8 = polyFeatures(Xval,8)\n",
    "Xval8 = (Xval8-mu)/sigma\n",
    "#Xval8 = insert(Xval8, 0, values=ones(len(yval)), axis=1)\n",
    "Xval8.shape"
   ]
  },
  {
   "cell_type": "markdown",
   "metadata": {},
   "source": [
    "*PLot the data with the polynomial fit. lambda = 0 has low bias, high variance; lambda = 100 has high bias, low variance.*"
   ]
  },
  {
   "cell_type": "code",
   "execution_count": 26,
   "metadata": {
    "collapsed": false
   },
   "outputs": [],
   "source": [
    "def plotFit(min_x, max_x, mu, sigma, theta, p, c):\n",
    "    x = linspace(min_x,max_x,50)\n",
    "    x = expand_dims(x,axis=1)\n",
    "    Xpoly = polyFeatures(x,p)\n",
    "    Xpoly = (Xpoly-mu)/sigma\n",
    "    Xpoly = insert(Xpoly, 0, values=ones(50), axis=1)\n",
    "    \n",
    "    yf = Evaluate(theta,Xpoly)\n",
    "    plot(x,yf,c)"
   ]
  },
  {
   "cell_type": "code",
   "execution_count": 27,
   "metadata": {
    "collapsed": false
   },
   "outputs": [
    {
     "data": {
      "text/plain": [
       "<matplotlib.legend.Legend at 0x1d65fcc0>"
      ]
     },
     "execution_count": 27,
     "metadata": {},
     "output_type": "execute_result"
    },
    {
     "data": {
      "image/png": "[encoded data removed]",
      "text/plain": [
       "<matplotlib.figure.Figure at 0x1d03cc50>"
      ]
     },
     "metadata": {},
     "output_type": "display_data"
    }
   ],
   "source": [
    "figure\n",
    "plot(X,y,'kx')\n",
    "theta = trainLinearRegression(Xn,y,0)\n",
    "plotFit(-60,50,mu,sigma,theta,8,'b')\n",
    "theta = trainLinearRegression(Xn,y,1)\n",
    "plotFit(-60,50,mu,sigma,theta,8,'r')\n",
    "theta = trainLinearRegression(Xn,y,100)\n",
    "plotFit(-60,50,mu,sigma,theta,8,'g')\n",
    "ylim(0,50)\n",
    "xlabel('x')\n",
    "ylabel('y')\n",
    "legend(['data','lambda = 0 (overfit)','lambda = 1 (about right)','lambda = 100 (underfit)'],loc='best')"
   ]
  },
  {
   "cell_type": "markdown",
   "metadata": {},
   "source": [
    "*Plot learning curves for 3 values of the regularizon parameter. It's clear that lambda = 1 gives the best results (lowest error).*"
   ]
  },
  {
   "cell_type": "code",
   "execution_count": 28,
   "metadata": {
    "collapsed": false
   },
   "outputs": [
    {
     "data": {
      "text/plain": [
       "<matplotlib.text.Text at 0x1d7a9d68>"
      ]
     },
     "execution_count": 28,
     "metadata": {},
     "output_type": "execute_result"
    },
    {
     "data": {
      "image/png": "[encoded data removed]",
      "text/plain": [
       "<matplotlib.figure.Figure at 0x1d315d30>"
      ]
     },
     "metadata": {},
     "output_type": "display_data"
    }
   ],
   "source": [
    "figure\n",
    "(error_train, error_val) = learningCurve(X_norm, y, Xval8, yval, 0)\n",
    "plot(range(2,len(error_train)+2),error_train,'b')\n",
    "plot(range(2,len(error_train)+2),error_val,'b--')\n",
    "(error_train, error_val) = learningCurve(X_norm, y, Xval8, yval, 1)\n",
    "plot(range(2,len(error_train)+2),error_train,'r')\n",
    "plot(range(2,len(error_train)+2),error_val,'r--')\n",
    "(error_train, error_val) = learningCurve(X_norm, y, Xval8, yval, 100)\n",
    "plot(range(2,len(error_train)+2),error_train,'g')\n",
    "plot(range(2,len(error_train)+2),error_val,'g--')\n",
    "legend(['lambda = 0 (train)','lambda = 0 (val)','lambda = 1 (train)','lambda = 1 (val)','lambda = 100 (train)','lambda = 100 (val)'],loc='best')\n",
    "xlabel('training set size')\n",
    "ylabel('error')"
   ]
  },
  {
   "cell_type": "markdown",
   "metadata": {},
   "source": [
    "*Now, systematically vary the regularization parameter (LR) when optimizing to the training set, and measure the error in the validation set. The lowest validation set error will be used to choose the appropriate LR for the test data.*"
   ]
  },
  {
   "cell_type": "code",
   "execution_count": 29,
   "metadata": {
    "collapsed": false
   },
   "outputs": [],
   "source": [
    " def validationCurve(X, y, Xval, yval):\n",
    "    \n",
    "    LR_vec = array([0, 0.001, 0.003, 0.01, 0.03, 0.1, 0.3, 1, 3, 10])\n",
    "    m = len(y)\n",
    "    LR_len = len(LR_vec)\n",
    "    \n",
    "    # add constant term to X\n",
    "    X = insert(X, 0, values=ones(m), axis=1)\n",
    "    Xval = insert(Xval, 0, values=ones(len(Xval)), axis=1)\n",
    "    \n",
    "    # take each subset\n",
    "    error_train = zeros(LR_len)\n",
    "    error_val = zeros(LR_len)\n",
    "    for ii in range(LR_len):\n",
    "        \n",
    "        # fit to find theta\n",
    "        theta = trainLinearRegression(X,y,LR_vec[ii])\n",
    "        error_train[ii] = Cost(theta,X,y,0)\n",
    "        error_val[ii] = Cost(theta,Xval,yval,0)\n",
    "    \n",
    "    return LR_vec, error_train, error_val"
   ]
  },
  {
   "cell_type": "code",
   "execution_count": 30,
   "metadata": {
    "collapsed": false
   },
   "outputs": [
    {
     "data": {
      "text/plain": [
       "(10L,)"
      ]
     },
     "execution_count": 30,
     "metadata": {},
     "output_type": "execute_result"
    }
   ],
   "source": [
    "lambda_vec = array([0, 0.001, 0.003, 0.01, 0.03, 0.1, 0.3, 1, 3, 10])\n",
    "lambda_vec.shape"
   ]
  },
  {
   "cell_type": "code",
   "execution_count": 31,
   "metadata": {
    "collapsed": false
   },
   "outputs": [],
   "source": [
    "(LR_vec, error_train, error_val) = validationCurve(X_norm, y, Xval8, yval)"
   ]
  },
  {
   "cell_type": "markdown",
   "metadata": {},
   "source": [
    "*Plot the training and validation error vs. the regularization parameter. Best choice has LR ~ 3*"
   ]
  },
  {
   "cell_type": "code",
   "execution_count": 32,
   "metadata": {
    "collapsed": false
   },
   "outputs": [
    {
     "data": {
      "text/plain": [
       "<matplotlib.legend.Legend at 0x1db39588>"
      ]
     },
     "execution_count": 32,
     "metadata": {},
     "output_type": "execute_result"
    },
    {
     "data": {
      "image/png": "[encoded data removed]",
      "text/plain": [
       "<matplotlib.figure.Figure at 0x1d03cac8>"
      ]
     },
     "metadata": {},
     "output_type": "display_data"
    }
   ],
   "source": [
    "figure\n",
    "plot(LR_vec,error_train,'k')\n",
    "plot(LR_vec,error_val,'b')\n",
    "ylim(0,10)\n",
    "xlabel('regularization parameter')\n",
    "ylabel('error')\n",
    "legend(['training','validation'])"
   ]
  },
  {
   "cell_type": "code",
   "execution_count": 33,
   "metadata": {
    "collapsed": false
   },
   "outputs": [],
   "source": [
    "LR = 3\n",
    "Xtest8 = polyFeatures(Xtest,8)\n",
    "Xtest8 = (Xtest8-mu)/sigma\n",
    "Xtest8 = insert(Xtest8, 0, values=ones(len(ytest)), axis=1)"
   ]
  },
  {
   "cell_type": "code",
   "execution_count": 34,
   "metadata": {
    "collapsed": false
   },
   "outputs": [],
   "source": [
    "theta = trainLinearRegression(Xn,y,LR)"
   ]
  },
  {
   "cell_type": "code",
   "execution_count": 35,
   "metadata": {
    "collapsed": false
   },
   "outputs": [
    {
     "data": {
      "text/plain": [
       "3.5720430373160048"
      ]
     },
     "execution_count": 35,
     "metadata": {},
     "output_type": "execute_result"
    }
   ],
   "source": [
    "Cost(theta,Xtest8,ytest,0)"
   ]
  },
  {
   "cell_type": "code",
   "execution_count": null,
   "metadata": {
    "collapsed": false
   },
   "outputs": [],
   "source": []
  }
 ],
 "metadata": {
  "kernelspec": {
   "display_name": "Python 2",
   "language": "python",
   "name": "python2"
  },
  "language_info": {
   "codemirror_mode": {
    "name": "ipython",
    "version": 2
   },
   "file_extension": ".py",
   "mimetype": "text/x-python",
   "name": "python",
   "nbconvert_exporter": "python",
   "pygments_lexer": "ipython2",
   "version": "2.7.11"
  }
 },
 "nbformat": 4,
 "nbformat_minor": 0
}
