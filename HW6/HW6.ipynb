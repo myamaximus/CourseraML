{
 "cells": [
  {
   "cell_type": "markdown",
   "metadata": {},
   "source": [
    "## Support Vector Machines\n",
    "*Use support vector machines (SVMs) to build a spam classifier*"
   ]
  },
  {
   "cell_type": "code",
   "execution_count": 1,
   "metadata": {
    "collapsed": false
   },
   "outputs": [
    {
     "name": "stdout",
     "output_type": "stream",
     "text": [
      "Populating the interactive namespace from numpy and matplotlib\n"
     ]
    }
   ],
   "source": [
    "from numpy import *\n",
    "%pylab inline\n",
    "import scipy.optimize as op\n",
    "import pandas as pd\n",
    "import os\n",
    "import scipy.io as sio\n",
    "from sklearn import svm"
   ]
  },
  {
   "cell_type": "markdown",
   "metadata": {},
   "source": [
    "*Load sample data, play with pandas a bit*"
   ]
  },
  {
   "cell_type": "code",
   "execution_count": 2,
   "metadata": {
    "collapsed": false
   },
   "outputs": [],
   "source": [
    "raw_data = sio.loadmat(\"ex6data1.mat\")"
   ]
  },
  {
   "cell_type": "code",
   "execution_count": 3,
   "metadata": {
    "collapsed": false
   },
   "outputs": [],
   "source": [
    "data = pd.DataFrame(raw_data['X'], columns=['X1', 'X2'])\n",
    "data['y'] = raw_data['y']"
   ]
  },
  {
   "cell_type": "code",
   "execution_count": 4,
   "metadata": {
    "collapsed": false
   },
   "outputs": [
    {
     "data": {
      "text/html": [
       "<div>\n",
       "<table border=\"1\" class=\"dataframe\">\n",
       "  <thead>\n",
       "    <tr style=\"text-align: right;\">\n",
       "      <th></th>\n",
       "      <th>X1</th>\n",
       "      <th>X2</th>\n",
       "      <th>y</th>\n",
       "    </tr>\n",
       "  </thead>\n",
       "  <tbody>\n",
       "    <tr>\n",
       "      <th>0</th>\n",
       "      <td>1.964300</td>\n",
       "      <td>4.5957</td>\n",
       "      <td>1</td>\n",
       "    </tr>\n",
       "    <tr>\n",
       "      <th>1</th>\n",
       "      <td>2.275300</td>\n",
       "      <td>3.8589</td>\n",
       "      <td>1</td>\n",
       "    </tr>\n",
       "    <tr>\n",
       "      <th>2</th>\n",
       "      <td>2.978100</td>\n",
       "      <td>4.5651</td>\n",
       "      <td>1</td>\n",
       "    </tr>\n",
       "    <tr>\n",
       "      <th>3</th>\n",
       "      <td>2.932000</td>\n",
       "      <td>3.5519</td>\n",
       "      <td>1</td>\n",
       "    </tr>\n",
       "    <tr>\n",
       "      <th>4</th>\n",
       "      <td>3.577200</td>\n",
       "      <td>2.8560</td>\n",
       "      <td>1</td>\n",
       "    </tr>\n",
       "    <tr>\n",
       "      <th>5</th>\n",
       "      <td>4.015000</td>\n",
       "      <td>3.1937</td>\n",
       "      <td>1</td>\n",
       "    </tr>\n",
       "    <tr>\n",
       "      <th>6</th>\n",
       "      <td>3.381400</td>\n",
       "      <td>3.4291</td>\n",
       "      <td>1</td>\n",
       "    </tr>\n",
       "    <tr>\n",
       "      <th>7</th>\n",
       "      <td>3.911300</td>\n",
       "      <td>4.1761</td>\n",
       "      <td>1</td>\n",
       "    </tr>\n",
       "    <tr>\n",
       "      <th>8</th>\n",
       "      <td>2.782200</td>\n",
       "      <td>4.0431</td>\n",
       "      <td>1</td>\n",
       "    </tr>\n",
       "    <tr>\n",
       "      <th>9</th>\n",
       "      <td>2.551800</td>\n",
       "      <td>4.6162</td>\n",
       "      <td>1</td>\n",
       "    </tr>\n",
       "    <tr>\n",
       "      <th>10</th>\n",
       "      <td>3.369800</td>\n",
       "      <td>3.9101</td>\n",
       "      <td>1</td>\n",
       "    </tr>\n",
       "    <tr>\n",
       "      <th>11</th>\n",
       "      <td>3.104800</td>\n",
       "      <td>3.0709</td>\n",
       "      <td>1</td>\n",
       "    </tr>\n",
       "    <tr>\n",
       "      <th>12</th>\n",
       "      <td>1.918200</td>\n",
       "      <td>4.0534</td>\n",
       "      <td>1</td>\n",
       "    </tr>\n",
       "    <tr>\n",
       "      <th>13</th>\n",
       "      <td>2.263800</td>\n",
       "      <td>4.3706</td>\n",
       "      <td>1</td>\n",
       "    </tr>\n",
       "    <tr>\n",
       "      <th>14</th>\n",
       "      <td>2.655500</td>\n",
       "      <td>3.5008</td>\n",
       "      <td>1</td>\n",
       "    </tr>\n",
       "    <tr>\n",
       "      <th>15</th>\n",
       "      <td>3.185500</td>\n",
       "      <td>4.2888</td>\n",
       "      <td>1</td>\n",
       "    </tr>\n",
       "    <tr>\n",
       "      <th>16</th>\n",
       "      <td>3.657900</td>\n",
       "      <td>3.8692</td>\n",
       "      <td>1</td>\n",
       "    </tr>\n",
       "    <tr>\n",
       "      <th>17</th>\n",
       "      <td>3.911300</td>\n",
       "      <td>3.4291</td>\n",
       "      <td>1</td>\n",
       "    </tr>\n",
       "    <tr>\n",
       "      <th>18</th>\n",
       "      <td>3.600200</td>\n",
       "      <td>3.1221</td>\n",
       "      <td>1</td>\n",
       "    </tr>\n",
       "    <tr>\n",
       "      <th>19</th>\n",
       "      <td>3.035700</td>\n",
       "      <td>3.3165</td>\n",
       "      <td>1</td>\n",
       "    </tr>\n",
       "    <tr>\n",
       "      <th>20</th>\n",
       "      <td>1.584100</td>\n",
       "      <td>3.3575</td>\n",
       "      <td>0</td>\n",
       "    </tr>\n",
       "    <tr>\n",
       "      <th>21</th>\n",
       "      <td>2.010300</td>\n",
       "      <td>3.2039</td>\n",
       "      <td>0</td>\n",
       "    </tr>\n",
       "    <tr>\n",
       "      <th>22</th>\n",
       "      <td>1.952700</td>\n",
       "      <td>2.7843</td>\n",
       "      <td>0</td>\n",
       "    </tr>\n",
       "    <tr>\n",
       "      <th>23</th>\n",
       "      <td>2.275300</td>\n",
       "      <td>2.7127</td>\n",
       "      <td>0</td>\n",
       "    </tr>\n",
       "    <tr>\n",
       "      <th>24</th>\n",
       "      <td>2.309900</td>\n",
       "      <td>2.9584</td>\n",
       "      <td>0</td>\n",
       "    </tr>\n",
       "    <tr>\n",
       "      <th>25</th>\n",
       "      <td>2.828300</td>\n",
       "      <td>2.6309</td>\n",
       "      <td>0</td>\n",
       "    </tr>\n",
       "    <tr>\n",
       "      <th>26</th>\n",
       "      <td>3.047300</td>\n",
       "      <td>2.2931</td>\n",
       "      <td>0</td>\n",
       "    </tr>\n",
       "    <tr>\n",
       "      <th>27</th>\n",
       "      <td>2.482700</td>\n",
       "      <td>2.0373</td>\n",
       "      <td>0</td>\n",
       "    </tr>\n",
       "    <tr>\n",
       "      <th>28</th>\n",
       "      <td>2.505700</td>\n",
       "      <td>2.3853</td>\n",
       "      <td>0</td>\n",
       "    </tr>\n",
       "    <tr>\n",
       "      <th>29</th>\n",
       "      <td>1.872100</td>\n",
       "      <td>2.0577</td>\n",
       "      <td>0</td>\n",
       "    </tr>\n",
       "    <tr>\n",
       "      <th>30</th>\n",
       "      <td>2.010300</td>\n",
       "      <td>2.3546</td>\n",
       "      <td>0</td>\n",
       "    </tr>\n",
       "    <tr>\n",
       "      <th>31</th>\n",
       "      <td>1.226900</td>\n",
       "      <td>2.3239</td>\n",
       "      <td>0</td>\n",
       "    </tr>\n",
       "    <tr>\n",
       "      <th>32</th>\n",
       "      <td>1.895100</td>\n",
       "      <td>2.9174</td>\n",
       "      <td>0</td>\n",
       "    </tr>\n",
       "    <tr>\n",
       "      <th>33</th>\n",
       "      <td>1.561000</td>\n",
       "      <td>3.0709</td>\n",
       "      <td>0</td>\n",
       "    </tr>\n",
       "    <tr>\n",
       "      <th>34</th>\n",
       "      <td>1.549500</td>\n",
       "      <td>2.6923</td>\n",
       "      <td>0</td>\n",
       "    </tr>\n",
       "    <tr>\n",
       "      <th>35</th>\n",
       "      <td>1.687800</td>\n",
       "      <td>2.4057</td>\n",
       "      <td>0</td>\n",
       "    </tr>\n",
       "    <tr>\n",
       "      <th>36</th>\n",
       "      <td>1.491900</td>\n",
       "      <td>2.0271</td>\n",
       "      <td>0</td>\n",
       "    </tr>\n",
       "    <tr>\n",
       "      <th>37</th>\n",
       "      <td>0.962000</td>\n",
       "      <td>2.6820</td>\n",
       "      <td>0</td>\n",
       "    </tr>\n",
       "    <tr>\n",
       "      <th>38</th>\n",
       "      <td>1.169300</td>\n",
       "      <td>2.9276</td>\n",
       "      <td>0</td>\n",
       "    </tr>\n",
       "    <tr>\n",
       "      <th>39</th>\n",
       "      <td>0.812200</td>\n",
       "      <td>2.9992</td>\n",
       "      <td>0</td>\n",
       "    </tr>\n",
       "    <tr>\n",
       "      <th>40</th>\n",
       "      <td>0.973500</td>\n",
       "      <td>3.3881</td>\n",
       "      <td>0</td>\n",
       "    </tr>\n",
       "    <tr>\n",
       "      <th>41</th>\n",
       "      <td>1.250000</td>\n",
       "      <td>3.1937</td>\n",
       "      <td>0</td>\n",
       "    </tr>\n",
       "    <tr>\n",
       "      <th>42</th>\n",
       "      <td>1.319100</td>\n",
       "      <td>3.5109</td>\n",
       "      <td>0</td>\n",
       "    </tr>\n",
       "    <tr>\n",
       "      <th>43</th>\n",
       "      <td>2.229200</td>\n",
       "      <td>2.2010</td>\n",
       "      <td>0</td>\n",
       "    </tr>\n",
       "    <tr>\n",
       "      <th>44</th>\n",
       "      <td>2.448200</td>\n",
       "      <td>2.6411</td>\n",
       "      <td>0</td>\n",
       "    </tr>\n",
       "    <tr>\n",
       "      <th>45</th>\n",
       "      <td>2.793800</td>\n",
       "      <td>1.9656</td>\n",
       "      <td>0</td>\n",
       "    </tr>\n",
       "    <tr>\n",
       "      <th>46</th>\n",
       "      <td>2.091000</td>\n",
       "      <td>1.6177</td>\n",
       "      <td>0</td>\n",
       "    </tr>\n",
       "    <tr>\n",
       "      <th>47</th>\n",
       "      <td>2.540300</td>\n",
       "      <td>2.8867</td>\n",
       "      <td>0</td>\n",
       "    </tr>\n",
       "    <tr>\n",
       "      <th>48</th>\n",
       "      <td>0.904400</td>\n",
       "      <td>3.0198</td>\n",
       "      <td>0</td>\n",
       "    </tr>\n",
       "    <tr>\n",
       "      <th>49</th>\n",
       "      <td>0.766150</td>\n",
       "      <td>2.5899</td>\n",
       "      <td>0</td>\n",
       "    </tr>\n",
       "    <tr>\n",
       "      <th>50</th>\n",
       "      <td>0.086405</td>\n",
       "      <td>4.1045</td>\n",
       "      <td>1</td>\n",
       "    </tr>\n",
       "  </tbody>\n",
       "</table>\n",
       "</div>"
      ],
      "text/plain": [
       "          X1      X2  y\n",
       "0   1.964300  4.5957  1\n",
       "1   2.275300  3.8589  1\n",
       "2   2.978100  4.5651  1\n",
       "3   2.932000  3.5519  1\n",
       "4   3.577200  2.8560  1\n",
       "5   4.015000  3.1937  1\n",
       "6   3.381400  3.4291  1\n",
       "7   3.911300  4.1761  1\n",
       "8   2.782200  4.0431  1\n",
       "9   2.551800  4.6162  1\n",
       "10  3.369800  3.9101  1\n",
       "11  3.104800  3.0709  1\n",
       "12  1.918200  4.0534  1\n",
       "13  2.263800  4.3706  1\n",
       "14  2.655500  3.5008  1\n",
       "15  3.185500  4.2888  1\n",
       "16  3.657900  3.8692  1\n",
       "17  3.911300  3.4291  1\n",
       "18  3.600200  3.1221  1\n",
       "19  3.035700  3.3165  1\n",
       "20  1.584100  3.3575  0\n",
       "21  2.010300  3.2039  0\n",
       "22  1.952700  2.7843  0\n",
       "23  2.275300  2.7127  0\n",
       "24  2.309900  2.9584  0\n",
       "25  2.828300  2.6309  0\n",
       "26  3.047300  2.2931  0\n",
       "27  2.482700  2.0373  0\n",
       "28  2.505700  2.3853  0\n",
       "29  1.872100  2.0577  0\n",
       "30  2.010300  2.3546  0\n",
       "31  1.226900  2.3239  0\n",
       "32  1.895100  2.9174  0\n",
       "33  1.561000  3.0709  0\n",
       "34  1.549500  2.6923  0\n",
       "35  1.687800  2.4057  0\n",
       "36  1.491900  2.0271  0\n",
       "37  0.962000  2.6820  0\n",
       "38  1.169300  2.9276  0\n",
       "39  0.812200  2.9992  0\n",
       "40  0.973500  3.3881  0\n",
       "41  1.250000  3.1937  0\n",
       "42  1.319100  3.5109  0\n",
       "43  2.229200  2.2010  0\n",
       "44  2.448200  2.6411  0\n",
       "45  2.793800  1.9656  0\n",
       "46  2.091000  1.6177  0\n",
       "47  2.540300  2.8867  0\n",
       "48  0.904400  3.0198  0\n",
       "49  0.766150  2.5899  0\n",
       "50  0.086405  4.1045  1"
      ]
     },
     "execution_count": 4,
     "metadata": {},
     "output_type": "execute_result"
    }
   ],
   "source": [
    "data"
   ]
  },
  {
   "cell_type": "markdown",
   "metadata": {},
   "source": [
    "*Create sub-data sets for positive (1) and negative (0) data and plot in 2D. Data has a linear boundary.*"
   ]
  },
  {
   "cell_type": "code",
   "execution_count": 5,
   "metadata": {
    "collapsed": false
   },
   "outputs": [
    {
     "data": {
      "text/plain": [
       "((21, 3), (30, 3), pandas.core.frame.DataFrame)"
      ]
     },
     "execution_count": 5,
     "metadata": {},
     "output_type": "execute_result"
    }
   ],
   "source": [
    "positive = data[data['y']==1]\n",
    "negative = data[data['y']==0]\n",
    "positive.shape, negative.shape, type(positive)"
   ]
  },
  {
   "cell_type": "code",
   "execution_count": 6,
   "metadata": {
    "collapsed": false
   },
   "outputs": [
    {
     "data": {
      "text/plain": [
       "[<matplotlib.lines.Line2D at 0x1c60cbe0>]"
      ]
     },
     "execution_count": 6,
     "metadata": {},
     "output_type": "execute_result"
    },
    {
     "data": {
      "image/png": "[encoded data removed]",
      "text/plain": [
       "<matplotlib.figure.Figure at 0x1c4c3be0>"
      ]
     },
     "metadata": {},
     "output_type": "display_data"
    }
   ],
   "source": [
    "figure\n",
    "plot(positive[\"X1\"],positive[\"X2\"],'ko')\n",
    "plot(negative['X1'],negative['X2'],'rx')"
   ]
  },
  {
   "cell_type": "markdown",
   "metadata": {},
   "source": [
    "*Fit Linear SVC (from package sklearn) with C = 1. C parameter is a positive value that controls the penalty for misclassifed training examples.*"
   ]
  },
  {
   "cell_type": "code",
   "execution_count": 7,
   "metadata": {
    "collapsed": false
   },
   "outputs": [
    {
     "data": {
      "text/plain": [
       "LinearSVC(C=1, class_weight=None, dual=True, fit_intercept=True,\n",
       "     intercept_scaling=1, loss='hinge', max_iter=1000, multi_class='ovr',\n",
       "     penalty='l2', random_state=None, tol=0.0001, verbose=0)"
      ]
     },
     "execution_count": 7,
     "metadata": {},
     "output_type": "execute_result"
    }
   ],
   "source": [
    "svc = svm.LinearSVC(C=1, loss='hinge', max_iter=1000)\n",
    "svc"
   ]
  },
  {
   "cell_type": "code",
   "execution_count": 8,
   "metadata": {
    "collapsed": false
   },
   "outputs": [
    {
     "data": {
      "text/plain": [
       "0.98039215686274506"
      ]
     },
     "execution_count": 8,
     "metadata": {},
     "output_type": "execute_result"
    }
   ],
   "source": [
    "svc.fit(data[['X1', 'X2']], data['y'])\n",
    "svc.score(data[['X1', 'X2']], data['y'])"
   ]
  },
  {
   "cell_type": "code",
   "execution_count": 9,
   "metadata": {
    "collapsed": false
   },
   "outputs": [],
   "source": [
    "xx,yy = meshgrid(linspace(min(data['X1']),max(data['X1']),100), linspace(min(data['X2']),max(data['X2']),100))"
   ]
  },
  {
   "cell_type": "code",
   "execution_count": 10,
   "metadata": {
    "collapsed": false
   },
   "outputs": [
    {
     "data": {
      "text/plain": [
       "((100L, 100L), (100L, 100L))"
      ]
     },
     "execution_count": 10,
     "metadata": {},
     "output_type": "execute_result"
    }
   ],
   "source": [
    "xx.shape, yy.shape"
   ]
  },
  {
   "cell_type": "code",
   "execution_count": 11,
   "metadata": {
    "collapsed": false
   },
   "outputs": [
    {
     "data": {
      "text/plain": [
       "(10000L, 2L)"
      ]
     },
     "execution_count": 11,
     "metadata": {},
     "output_type": "execute_result"
    }
   ],
   "source": [
    "Xpred = array([xx.ravel(),yy.ravel()]).T\n",
    "Xpred.shape"
   ]
  },
  {
   "cell_type": "code",
   "execution_count": 12,
   "metadata": {
    "collapsed": false
   },
   "outputs": [],
   "source": [
    "Z = svc.predict(Xpred)\n",
    "Z = Z.reshape(xx.shape)"
   ]
  },
  {
   "cell_type": "markdown",
   "metadata": {},
   "source": [
    "*PLot results with decision boundary.*"
   ]
  },
  {
   "cell_type": "code",
   "execution_count": 13,
   "metadata": {
    "collapsed": false
   },
   "outputs": [
    {
     "data": {
      "text/plain": [
       "[<matplotlib.lines.Line2D at 0x1c9aa2b0>]"
      ]
     },
     "execution_count": 13,
     "metadata": {},
     "output_type": "execute_result"
    },
    {
     "data": {
      "image/png": "[encoded data removed]",
      "text/plain": [
       "<matplotlib.figure.Figure at 0x1c668518>"
      ]
     },
     "metadata": {},
     "output_type": "display_data"
    }
   ],
   "source": [
    "figure\n",
    "contourf(xx, yy, Z, cmap=plt.cm.Paired)\n",
    "plot(positive[\"X1\"],positive[\"X2\"],'ko')\n",
    "plot(negative['X1'],negative['X2'],'rx')"
   ]
  },
  {
   "cell_type": "markdown",
   "metadata": {},
   "source": [
    "*Repeat fit with C = 1000. Now the model fits the outlier as well, but seems a bit artificial.*"
   ]
  },
  {
   "cell_type": "code",
   "execution_count": 14,
   "metadata": {
    "collapsed": false
   },
   "outputs": [],
   "source": [
    "svc2 = svm.LinearSVC(C=1000, loss='hinge', max_iter=1000)"
   ]
  },
  {
   "cell_type": "code",
   "execution_count": 15,
   "metadata": {
    "collapsed": false
   },
   "outputs": [
    {
     "data": {
      "text/plain": [
       "0.94117647058823528"
      ]
     },
     "execution_count": 15,
     "metadata": {},
     "output_type": "execute_result"
    }
   ],
   "source": [
    "svc2.fit(data[['X1', 'X2']], data['y'])\n",
    "svc2.score(data[['X1', 'X2']], data['y'])"
   ]
  },
  {
   "cell_type": "code",
   "execution_count": 16,
   "metadata": {
    "collapsed": false
   },
   "outputs": [
    {
     "data": {
      "text/plain": [
       "(100L, 100L)"
      ]
     },
     "execution_count": 16,
     "metadata": {},
     "output_type": "execute_result"
    }
   ],
   "source": [
    "Z = svc2.predict(Xpred)\n",
    "Z = Z.reshape(xx.shape)\n",
    "Z.shape"
   ]
  },
  {
   "cell_type": "code",
   "execution_count": 17,
   "metadata": {
    "collapsed": false
   },
   "outputs": [
    {
     "data": {
      "text/plain": [
       "[<matplotlib.lines.Line2D at 0x1cc36160>]"
      ]
     },
     "execution_count": 17,
     "metadata": {},
     "output_type": "execute_result"
    },
    {
     "data": {
      "image/png": "[encoded data removed]",
      "text/plain": [
       "<matplotlib.figure.Figure at 0x1c9e1908>"
      ]
     },
     "metadata": {},
     "output_type": "display_data"
    }
   ],
   "source": [
    "figure\n",
    "contourf(xx, yy, Z, cmap=plt.cm.Paired)\n",
    "plot(positive[\"X1\"],positive[\"X2\"],'ko')\n",
    "plot(negative['X1'],negative['X2'],'rx')"
   ]
  },
  {
   "cell_type": "markdown",
   "metadata": {},
   "source": [
    "## Implement Gaussian Kernel with SVM\n",
    "*Load new data, with a more complex decision boundary*"
   ]
  },
  {
   "cell_type": "code",
   "execution_count": 18,
   "metadata": {
    "collapsed": false
   },
   "outputs": [],
   "source": [
    "raw_data = sio.loadmat(\"ex6data2.mat\")"
   ]
  },
  {
   "cell_type": "code",
   "execution_count": 19,
   "metadata": {
    "collapsed": false
   },
   "outputs": [],
   "source": [
    "data = pd.DataFrame(raw_data['X'], columns=['X1', 'X2'])\n",
    "data['y'] = raw_data['y']"
   ]
  },
  {
   "cell_type": "code",
   "execution_count": 20,
   "metadata": {
    "collapsed": false
   },
   "outputs": [
    {
     "data": {
      "text/html": [
       "<div>\n",
       "<table border=\"1\" class=\"dataframe\">\n",
       "  <thead>\n",
       "    <tr style=\"text-align: right;\">\n",
       "      <th></th>\n",
       "      <th>X1</th>\n",
       "      <th>X2</th>\n",
       "      <th>y</th>\n",
       "    </tr>\n",
       "  </thead>\n",
       "  <tbody>\n",
       "    <tr>\n",
       "      <th>0</th>\n",
       "      <td>0.107143</td>\n",
       "      <td>0.603070</td>\n",
       "      <td>1</td>\n",
       "    </tr>\n",
       "    <tr>\n",
       "      <th>1</th>\n",
       "      <td>0.093318</td>\n",
       "      <td>0.649854</td>\n",
       "      <td>1</td>\n",
       "    </tr>\n",
       "    <tr>\n",
       "      <th>2</th>\n",
       "      <td>0.097926</td>\n",
       "      <td>0.705409</td>\n",
       "      <td>1</td>\n",
       "    </tr>\n",
       "    <tr>\n",
       "      <th>3</th>\n",
       "      <td>0.155530</td>\n",
       "      <td>0.784357</td>\n",
       "      <td>1</td>\n",
       "    </tr>\n",
       "    <tr>\n",
       "      <th>4</th>\n",
       "      <td>0.210829</td>\n",
       "      <td>0.866228</td>\n",
       "      <td>1</td>\n",
       "    </tr>\n",
       "    <tr>\n",
       "      <th>5</th>\n",
       "      <td>0.328341</td>\n",
       "      <td>0.929094</td>\n",
       "      <td>1</td>\n",
       "    </tr>\n",
       "    <tr>\n",
       "      <th>6</th>\n",
       "      <td>0.429724</td>\n",
       "      <td>0.934942</td>\n",
       "      <td>1</td>\n",
       "    </tr>\n",
       "    <tr>\n",
       "      <th>7</th>\n",
       "      <td>0.620968</td>\n",
       "      <td>0.934942</td>\n",
       "      <td>1</td>\n",
       "    </tr>\n",
       "    <tr>\n",
       "      <th>8</th>\n",
       "      <td>0.756912</td>\n",
       "      <td>0.910088</td>\n",
       "      <td>1</td>\n",
       "    </tr>\n",
       "    <tr>\n",
       "      <th>9</th>\n",
       "      <td>0.819124</td>\n",
       "      <td>0.879386</td>\n",
       "      <td>1</td>\n",
       "    </tr>\n",
       "    <tr>\n",
       "      <th>10</th>\n",
       "      <td>0.809908</td>\n",
       "      <td>0.836988</td>\n",
       "      <td>1</td>\n",
       "    </tr>\n",
       "    <tr>\n",
       "      <th>11</th>\n",
       "      <td>0.750000</td>\n",
       "      <td>0.819444</td>\n",
       "      <td>1</td>\n",
       "    </tr>\n",
       "    <tr>\n",
       "      <th>12</th>\n",
       "      <td>0.773041</td>\n",
       "      <td>0.854532</td>\n",
       "      <td>1</td>\n",
       "    </tr>\n",
       "    <tr>\n",
       "      <th>13</th>\n",
       "      <td>0.770737</td>\n",
       "      <td>0.889620</td>\n",
       "      <td>1</td>\n",
       "    </tr>\n",
       "    <tr>\n",
       "      <th>14</th>\n",
       "      <td>0.766129</td>\n",
       "      <td>0.899854</td>\n",
       "      <td>1</td>\n",
       "    </tr>\n",
       "    <tr>\n",
       "      <th>15</th>\n",
       "      <td>0.779954</td>\n",
       "      <td>0.835526</td>\n",
       "      <td>1</td>\n",
       "    </tr>\n",
       "    <tr>\n",
       "      <th>16</th>\n",
       "      <td>0.750000</td>\n",
       "      <td>0.791667</td>\n",
       "      <td>1</td>\n",
       "    </tr>\n",
       "    <tr>\n",
       "      <th>17</th>\n",
       "      <td>0.761521</td>\n",
       "      <td>0.765351</td>\n",
       "      <td>1</td>\n",
       "    </tr>\n",
       "    <tr>\n",
       "      <th>18</th>\n",
       "      <td>0.814516</td>\n",
       "      <td>0.832602</td>\n",
       "      <td>1</td>\n",
       "    </tr>\n",
       "    <tr>\n",
       "      <th>19</th>\n",
       "      <td>0.814516</td>\n",
       "      <td>0.885234</td>\n",
       "      <td>1</td>\n",
       "    </tr>\n",
       "    <tr>\n",
       "      <th>20</th>\n",
       "      <td>0.563364</td>\n",
       "      <td>0.921784</td>\n",
       "      <td>1</td>\n",
       "    </tr>\n",
       "    <tr>\n",
       "      <th>21</th>\n",
       "      <td>0.494240</td>\n",
       "      <td>0.899854</td>\n",
       "      <td>1</td>\n",
       "    </tr>\n",
       "    <tr>\n",
       "      <th>22</th>\n",
       "      <td>0.480415</td>\n",
       "      <td>0.863304</td>\n",
       "      <td>1</td>\n",
       "    </tr>\n",
       "    <tr>\n",
       "      <th>23</th>\n",
       "      <td>0.448157</td>\n",
       "      <td>0.819444</td>\n",
       "      <td>1</td>\n",
       "    </tr>\n",
       "    <tr>\n",
       "      <th>24</th>\n",
       "      <td>0.425115</td>\n",
       "      <td>0.857456</td>\n",
       "      <td>1</td>\n",
       "    </tr>\n",
       "    <tr>\n",
       "      <th>25</th>\n",
       "      <td>0.450461</td>\n",
       "      <td>0.899854</td>\n",
       "      <td>1</td>\n",
       "    </tr>\n",
       "    <tr>\n",
       "      <th>26</th>\n",
       "      <td>0.510369</td>\n",
       "      <td>0.937865</td>\n",
       "      <td>1</td>\n",
       "    </tr>\n",
       "    <tr>\n",
       "      <th>27</th>\n",
       "      <td>0.498848</td>\n",
       "      <td>0.945175</td>\n",
       "      <td>1</td>\n",
       "    </tr>\n",
       "    <tr>\n",
       "      <th>28</th>\n",
       "      <td>0.351382</td>\n",
       "      <td>0.934942</td>\n",
       "      <td>1</td>\n",
       "    </tr>\n",
       "    <tr>\n",
       "      <th>29</th>\n",
       "      <td>0.273041</td>\n",
       "      <td>0.901316</td>\n",
       "      <td>1</td>\n",
       "    </tr>\n",
       "    <tr>\n",
       "      <th>...</th>\n",
       "      <td>...</td>\n",
       "      <td>...</td>\n",
       "      <td>...</td>\n",
       "    </tr>\n",
       "    <tr>\n",
       "      <th>833</th>\n",
       "      <td>0.879032</td>\n",
       "      <td>0.421930</td>\n",
       "      <td>1</td>\n",
       "    </tr>\n",
       "    <tr>\n",
       "      <th>834</th>\n",
       "      <td>0.874424</td>\n",
       "      <td>0.407895</td>\n",
       "      <td>1</td>\n",
       "    </tr>\n",
       "    <tr>\n",
       "      <th>835</th>\n",
       "      <td>0.927419</td>\n",
       "      <td>0.407895</td>\n",
       "      <td>1</td>\n",
       "    </tr>\n",
       "    <tr>\n",
       "      <th>836</th>\n",
       "      <td>0.948157</td>\n",
       "      <td>0.411404</td>\n",
       "      <td>1</td>\n",
       "    </tr>\n",
       "    <tr>\n",
       "      <th>837</th>\n",
       "      <td>0.961982</td>\n",
       "      <td>0.413158</td>\n",
       "      <td>1</td>\n",
       "    </tr>\n",
       "    <tr>\n",
       "      <th>838</th>\n",
       "      <td>0.966590</td>\n",
       "      <td>0.425439</td>\n",
       "      <td>1</td>\n",
       "    </tr>\n",
       "    <tr>\n",
       "      <th>839</th>\n",
       "      <td>0.966590</td>\n",
       "      <td>0.434211</td>\n",
       "      <td>1</td>\n",
       "    </tr>\n",
       "    <tr>\n",
       "      <th>840</th>\n",
       "      <td>0.948157</td>\n",
       "      <td>0.434211</td>\n",
       "      <td>1</td>\n",
       "    </tr>\n",
       "    <tr>\n",
       "      <th>841</th>\n",
       "      <td>0.934332</td>\n",
       "      <td>0.435965</td>\n",
       "      <td>1</td>\n",
       "    </tr>\n",
       "    <tr>\n",
       "      <th>842</th>\n",
       "      <td>0.948157</td>\n",
       "      <td>0.469298</td>\n",
       "      <td>1</td>\n",
       "    </tr>\n",
       "    <tr>\n",
       "      <th>843</th>\n",
       "      <td>0.964286</td>\n",
       "      <td>0.474561</td>\n",
       "      <td>1</td>\n",
       "    </tr>\n",
       "    <tr>\n",
       "      <th>844</th>\n",
       "      <td>0.989631</td>\n",
       "      <td>0.453509</td>\n",
       "      <td>1</td>\n",
       "    </tr>\n",
       "    <tr>\n",
       "      <th>845</th>\n",
       "      <td>0.987327</td>\n",
       "      <td>0.435965</td>\n",
       "      <td>1</td>\n",
       "    </tr>\n",
       "    <tr>\n",
       "      <th>846</th>\n",
       "      <td>0.966590</td>\n",
       "      <td>0.516667</td>\n",
       "      <td>1</td>\n",
       "    </tr>\n",
       "    <tr>\n",
       "      <th>847</th>\n",
       "      <td>0.959677</td>\n",
       "      <td>0.557018</td>\n",
       "      <td>1</td>\n",
       "    </tr>\n",
       "    <tr>\n",
       "      <th>848</th>\n",
       "      <td>0.904378</td>\n",
       "      <td>0.560526</td>\n",
       "      <td>1</td>\n",
       "    </tr>\n",
       "    <tr>\n",
       "      <th>849</th>\n",
       "      <td>0.915899</td>\n",
       "      <td>0.525439</td>\n",
       "      <td>1</td>\n",
       "    </tr>\n",
       "    <tr>\n",
       "      <th>850</th>\n",
       "      <td>0.922811</td>\n",
       "      <td>0.493860</td>\n",
       "      <td>1</td>\n",
       "    </tr>\n",
       "    <tr>\n",
       "      <th>851</th>\n",
       "      <td>0.911290</td>\n",
       "      <td>0.453509</td>\n",
       "      <td>1</td>\n",
       "    </tr>\n",
       "    <tr>\n",
       "      <th>852</th>\n",
       "      <td>0.890553</td>\n",
       "      <td>0.444737</td>\n",
       "      <td>1</td>\n",
       "    </tr>\n",
       "    <tr>\n",
       "      <th>853</th>\n",
       "      <td>0.874424</td>\n",
       "      <td>0.507895</td>\n",
       "      <td>1</td>\n",
       "    </tr>\n",
       "    <tr>\n",
       "      <th>854</th>\n",
       "      <td>0.897465</td>\n",
       "      <td>0.527193</td>\n",
       "      <td>1</td>\n",
       "    </tr>\n",
       "    <tr>\n",
       "      <th>855</th>\n",
       "      <td>0.913594</td>\n",
       "      <td>0.537719</td>\n",
       "      <td>1</td>\n",
       "    </tr>\n",
       "    <tr>\n",
       "      <th>856</th>\n",
       "      <td>0.968894</td>\n",
       "      <td>0.565789</td>\n",
       "      <td>1</td>\n",
       "    </tr>\n",
       "    <tr>\n",
       "      <th>857</th>\n",
       "      <td>0.985023</td>\n",
       "      <td>0.579825</td>\n",
       "      <td>1</td>\n",
       "    </tr>\n",
       "    <tr>\n",
       "      <th>858</th>\n",
       "      <td>0.994240</td>\n",
       "      <td>0.516667</td>\n",
       "      <td>1</td>\n",
       "    </tr>\n",
       "    <tr>\n",
       "      <th>859</th>\n",
       "      <td>0.964286</td>\n",
       "      <td>0.472807</td>\n",
       "      <td>1</td>\n",
       "    </tr>\n",
       "    <tr>\n",
       "      <th>860</th>\n",
       "      <td>0.975806</td>\n",
       "      <td>0.439474</td>\n",
       "      <td>1</td>\n",
       "    </tr>\n",
       "    <tr>\n",
       "      <th>861</th>\n",
       "      <td>0.989631</td>\n",
       "      <td>0.425439</td>\n",
       "      <td>1</td>\n",
       "    </tr>\n",
       "    <tr>\n",
       "      <th>862</th>\n",
       "      <td>0.996544</td>\n",
       "      <td>0.414912</td>\n",
       "      <td>1</td>\n",
       "    </tr>\n",
       "  </tbody>\n",
       "</table>\n",
       "<p>863 rows × 3 columns</p>\n",
       "</div>"
      ],
      "text/plain": [
       "           X1        X2  y\n",
       "0    0.107143  0.603070  1\n",
       "1    0.093318  0.649854  1\n",
       "2    0.097926  0.705409  1\n",
       "3    0.155530  0.784357  1\n",
       "4    0.210829  0.866228  1\n",
       "5    0.328341  0.929094  1\n",
       "6    0.429724  0.934942  1\n",
       "7    0.620968  0.934942  1\n",
       "8    0.756912  0.910088  1\n",
       "9    0.819124  0.879386  1\n",
       "10   0.809908  0.836988  1\n",
       "11   0.750000  0.819444  1\n",
       "12   0.773041  0.854532  1\n",
       "13   0.770737  0.889620  1\n",
       "14   0.766129  0.899854  1\n",
       "15   0.779954  0.835526  1\n",
       "16   0.750000  0.791667  1\n",
       "17   0.761521  0.765351  1\n",
       "18   0.814516  0.832602  1\n",
       "19   0.814516  0.885234  1\n",
       "20   0.563364  0.921784  1\n",
       "21   0.494240  0.899854  1\n",
       "22   0.480415  0.863304  1\n",
       "23   0.448157  0.819444  1\n",
       "24   0.425115  0.857456  1\n",
       "25   0.450461  0.899854  1\n",
       "26   0.510369  0.937865  1\n",
       "27   0.498848  0.945175  1\n",
       "28   0.351382  0.934942  1\n",
       "29   0.273041  0.901316  1\n",
       "..        ...       ... ..\n",
       "833  0.879032  0.421930  1\n",
       "834  0.874424  0.407895  1\n",
       "835  0.927419  0.407895  1\n",
       "836  0.948157  0.411404  1\n",
       "837  0.961982  0.413158  1\n",
       "838  0.966590  0.425439  1\n",
       "839  0.966590  0.434211  1\n",
       "840  0.948157  0.434211  1\n",
       "841  0.934332  0.435965  1\n",
       "842  0.948157  0.469298  1\n",
       "843  0.964286  0.474561  1\n",
       "844  0.989631  0.453509  1\n",
       "845  0.987327  0.435965  1\n",
       "846  0.966590  0.516667  1\n",
       "847  0.959677  0.557018  1\n",
       "848  0.904378  0.560526  1\n",
       "849  0.915899  0.525439  1\n",
       "850  0.922811  0.493860  1\n",
       "851  0.911290  0.453509  1\n",
       "852  0.890553  0.444737  1\n",
       "853  0.874424  0.507895  1\n",
       "854  0.897465  0.527193  1\n",
       "855  0.913594  0.537719  1\n",
       "856  0.968894  0.565789  1\n",
       "857  0.985023  0.579825  1\n",
       "858  0.994240  0.516667  1\n",
       "859  0.964286  0.472807  1\n",
       "860  0.975806  0.439474  1\n",
       "861  0.989631  0.425439  1\n",
       "862  0.996544  0.414912  1\n",
       "\n",
       "[863 rows x 3 columns]"
      ]
     },
     "execution_count": 20,
     "metadata": {},
     "output_type": "execute_result"
    }
   ],
   "source": [
    "data"
   ]
  },
  {
   "cell_type": "code",
   "execution_count": 21,
   "metadata": {
    "collapsed": false
   },
   "outputs": [
    {
     "data": {
      "text/plain": [
       "((480, 3), (383, 3), pandas.core.frame.DataFrame)"
      ]
     },
     "execution_count": 21,
     "metadata": {},
     "output_type": "execute_result"
    }
   ],
   "source": [
    "positive = data[data['y']==1]\n",
    "negative = data[data['y']==0]\n",
    "positive.shape, negative.shape, type(positive)"
   ]
  },
  {
   "cell_type": "code",
   "execution_count": 22,
   "metadata": {
    "collapsed": false
   },
   "outputs": [
    {
     "data": {
      "text/plain": [
       "[<matplotlib.lines.Line2D at 0x1f0ff358>]"
      ]
     },
     "execution_count": 22,
     "metadata": {},
     "output_type": "execute_result"
    },
    {
     "data": {
      "image/png": "[encoded data removed]",
      "text/plain": [
       "<matplotlib.figure.Figure at 0x1c668438>"
      ]
     },
     "metadata": {},
     "output_type": "display_data"
    }
   ],
   "source": [
    "figure\n",
    "plot(positive[\"X1\"],positive[\"X2\"],'ko')\n",
    "plot(negative['X1'],negative['X2'],'rx')"
   ]
  },
  {
   "cell_type": "markdown",
   "metadata": {},
   "source": [
    "*Use SVC with default RBC (radial basis function) kernel. SVC fits 99% of the data.*"
   ]
  },
  {
   "cell_type": "code",
   "execution_count": 23,
   "metadata": {
    "collapsed": false
   },
   "outputs": [
    {
     "data": {
      "text/plain": [
       "0.99304750869061409"
      ]
     },
     "execution_count": 23,
     "metadata": {},
     "output_type": "execute_result"
    }
   ],
   "source": [
    "svc = svm.SVC(C=100, gamma=20, probability=True)\n",
    "svc.fit(data[['X1', 'X2']], data['y'])\n",
    "svc.score(data[['X1', 'X2']], data['y'])"
   ]
  },
  {
   "cell_type": "markdown",
   "metadata": {},
   "source": [
    "*Plot the data with the decision boundary*"
   ]
  },
  {
   "cell_type": "code",
   "execution_count": 24,
   "metadata": {
    "collapsed": false
   },
   "outputs": [],
   "source": [
    "xx,yy = meshgrid(linspace(min(data['X1']),max(data['X1']),100), linspace(min(data['X2']),max(data['X2']),100))"
   ]
  },
  {
   "cell_type": "code",
   "execution_count": 25,
   "metadata": {
    "collapsed": false
   },
   "outputs": [
    {
     "data": {
      "text/plain": [
       "(10000L, 2L)"
      ]
     },
     "execution_count": 25,
     "metadata": {},
     "output_type": "execute_result"
    }
   ],
   "source": [
    "Xpred = array([xx.ravel(),yy.ravel()]).T\n",
    "Xpred.shape"
   ]
  },
  {
   "cell_type": "code",
   "execution_count": 26,
   "metadata": {
    "collapsed": false
   },
   "outputs": [
    {
     "data": {
      "text/plain": [
       "(100L, 100L)"
      ]
     },
     "execution_count": 26,
     "metadata": {},
     "output_type": "execute_result"
    }
   ],
   "source": [
    "Z = svc.predict(Xpred)\n",
    "Z = Z.reshape(xx.shape)\n",
    "Z.shape"
   ]
  },
  {
   "cell_type": "code",
   "execution_count": 27,
   "metadata": {
    "collapsed": false
   },
   "outputs": [
    {
     "data": {
      "text/plain": [
       "[<matplotlib.lines.Line2D at 0x1f3646a0>]"
      ]
     },
     "execution_count": 27,
     "metadata": {},
     "output_type": "execute_result"
    },
    {
     "data": {
      "image/png": "[encoded data removed]",
      "text/plain": [
       "<matplotlib.figure.Figure at 0x1cde69e8>"
      ]
     },
     "metadata": {},
     "output_type": "display_data"
    }
   ],
   "source": [
    "figure\n",
    "contourf(xx, yy, Z, cmap=plt.cm.Paired)\n",
    "plot(positive[\"X1\"],positive[\"X2\"],'ko')\n",
    "plot(negative['X1'],negative['X2'],'rx')"
   ]
  },
  {
   "cell_type": "markdown",
   "metadata": {},
   "source": [
    "*Load third data set. Make fits to the testdata for varying parameters C and gamma. Use the fit to find the performance on the validation set, optimize parameters.*"
   ]
  },
  {
   "cell_type": "code",
   "execution_count": 28,
   "metadata": {
    "collapsed": false
   },
   "outputs": [],
   "source": [
    "raw_data = sio.loadmat('ex6data3.mat')\n",
    "\n",
    "X = raw_data['X']\n",
    "Xval = raw_data['Xval']\n",
    "y = raw_data['y'].ravel()\n",
    "yval = raw_data['yval'].ravel()"
   ]
  },
  {
   "cell_type": "code",
   "execution_count": 29,
   "metadata": {
    "collapsed": false
   },
   "outputs": [
    {
     "data": {
      "text/plain": [
       "((211L, 2L), (200L, 2L))"
      ]
     },
     "execution_count": 29,
     "metadata": {},
     "output_type": "execute_result"
    }
   ],
   "source": [
    "X.shape, Xval.shape"
   ]
  },
  {
   "cell_type": "markdown",
   "metadata": {},
   "source": [
    "*Note that gamma is = 1/2sigma in typical Gaussian formulation*"
   ]
  },
  {
   "cell_type": "markdown",
   "metadata": {},
   "source": [
    "*Define a function which scans the parameters C and gamma and returns the SVC score for the test (S) and validation (Sval) data sets.*"
   ]
  },
  {
   "cell_type": "code",
   "execution_count": 30,
   "metadata": {
    "collapsed": false
   },
   "outputs": [],
   "source": [
    "def optimize_parameters(X,y,Xval,yval):\n",
    "    c = array([0.01,0.03,0.1,0.3,1,3,10,30])\n",
    "    g = copy(c)\n",
    "    m = len(c)\n",
    "    C,G = meshgrid(c,g)\n",
    "    S = zeros(shape(C))\n",
    "    Sval = zeros(shape(C))\n",
    "    \n",
    "    # loop through all combinations of C and gamma\n",
    "    for ic in range(m):\n",
    "        for ig in range(m):\n",
    "            svc = svm.SVC(C=c[ic], gamma=g[ig], probability=True)\n",
    "            svc.fit(X, y)\n",
    "            # score on the training data\n",
    "            S[ic,ig]=svc.score(X, y)\n",
    "            # score on the validation data\n",
    "            Sval[ic,ig]=svc.score(Xval,yval)\n",
    "    \n",
    "    return C, G, S, Sval        "
   ]
  },
  {
   "cell_type": "code",
   "execution_count": 31,
   "metadata": {
    "collapsed": false
   },
   "outputs": [],
   "source": [
    "C, G, S, Sval = optimize_parameters(X,y,Xval,yval)"
   ]
  },
  {
   "cell_type": "markdown",
   "metadata": {},
   "source": [
    "*Visualize the scores vs. both parameters*"
   ]
  },
  {
   "cell_type": "code",
   "execution_count": 32,
   "metadata": {
    "collapsed": false
   },
   "outputs": [
    {
     "data": {
      "text/plain": [
       "<matplotlib.text.Text at 0x1f76c3c8>"
      ]
     },
     "execution_count": 32,
     "metadata": {},
     "output_type": "execute_result"
    },
    {
     "data": {
      "image/png": "[encoded data removed]",
      "text/plain": [
       "<matplotlib.figure.Figure at 0x1f364cf8>"
      ]
     },
     "metadata": {},
     "output_type": "display_data"
    }
   ],
   "source": [
    "figure(figsize = (12,6))\n",
    "subplot(1,2,1)\n",
    "p = imshow(S)\n",
    "colorbar(p)\n",
    "xlabel('C')\n",
    "ylabel('gamma')\n",
    "title('test data')\n",
    "subplot(1,2,2)\n",
    "q = imshow(Sval)\n",
    "colorbar(q)\n",
    "xlabel('C')\n",
    "ylabel('gamma')\n",
    "title('validation data')"
   ]
  },
  {
   "cell_type": "code",
   "execution_count": 33,
   "metadata": {
    "collapsed": false
   },
   "outputs": [
    {
     "data": {
      "text/plain": [
       "0.96499999999999997"
      ]
     },
     "execution_count": 33,
     "metadata": {},
     "output_type": "execute_result"
    }
   ],
   "source": [
    "maxval = amax(Sval)\n",
    "maxval"
   ]
  },
  {
   "cell_type": "markdown",
   "metadata": {},
   "source": [
    "*Find the values for C and gamma which maximize the score*"
   ]
  },
  {
   "cell_type": "code",
   "execution_count": 34,
   "metadata": {
    "collapsed": false
   },
   "outputs": [
    {
     "data": {
      "text/plain": [
       "array([[5, 7],\n",
       "       [7, 6]], dtype=int64)"
      ]
     },
     "execution_count": 34,
     "metadata": {},
     "output_type": "execute_result"
    }
   ],
   "source": [
    "index = argwhere(Sval==maxval)\n",
    "index"
   ]
  },
  {
   "cell_type": "markdown",
   "metadata": {},
   "source": [
    "*There are two minima, let's plot them both*"
   ]
  },
  {
   "cell_type": "code",
   "execution_count": 35,
   "metadata": {
    "collapsed": false
   },
   "outputs": [
    {
     "data": {
      "text/plain": [
       "(30.0, 3.0)"
      ]
     },
     "execution_count": 35,
     "metadata": {},
     "output_type": "execute_result"
    }
   ],
   "source": [
    "C[5,7],G[5,7]"
   ]
  },
  {
   "cell_type": "code",
   "execution_count": 36,
   "metadata": {
    "collapsed": false
   },
   "outputs": [
    {
     "data": {
      "text/plain": [
       "SVC(C=30, cache_size=200, class_weight=None, coef0=0.0,\n",
       "  decision_function_shape=None, degree=3, gamma=3, kernel='rbf',\n",
       "  max_iter=-1, probability=True, random_state=None, shrinking=True,\n",
       "  tol=0.001, verbose=False)"
      ]
     },
     "execution_count": 36,
     "metadata": {},
     "output_type": "execute_result"
    }
   ],
   "source": [
    "svc = svm.SVC(C=30, gamma=3, probability=True)\n",
    "svc.fit(X, y)"
   ]
  },
  {
   "cell_type": "code",
   "execution_count": 37,
   "metadata": {
    "collapsed": false
   },
   "outputs": [],
   "source": [
    "xx,yy = meshgrid(linspace(min(X[:,0]),max(X[:,0]),100), linspace(min(X[:,1]),max(X[:,1]),100))"
   ]
  },
  {
   "cell_type": "code",
   "execution_count": 38,
   "metadata": {
    "collapsed": false
   },
   "outputs": [],
   "source": [
    "Xpred = array([xx.ravel(),yy.ravel()]).T"
   ]
  },
  {
   "cell_type": "code",
   "execution_count": 39,
   "metadata": {
    "collapsed": false
   },
   "outputs": [],
   "source": [
    "Z = svc.predict(Xpred)\n",
    "Z = Z.reshape(xx.shape)"
   ]
  },
  {
   "cell_type": "code",
   "execution_count": 40,
   "metadata": {
    "collapsed": false
   },
   "outputs": [],
   "source": [
    "positive = X[y==1,:]\n",
    "negative = X[y==0,:]\n",
    "posval = Xval[yval==1]\n",
    "negval = Xval[yval==0]\n",
    "positive = append(positive,posval,axis = 0)\n",
    "negative = append(negative,posval,axis = 0)"
   ]
  },
  {
   "cell_type": "code",
   "execution_count": 41,
   "metadata": {
    "collapsed": false
   },
   "outputs": [
    {
     "data": {
      "text/plain": [
       "[<matplotlib.lines.Line2D at 0x1fd90748>]"
      ]
     },
     "execution_count": 41,
     "metadata": {},
     "output_type": "execute_result"
    },
    {
     "data": {
      "image/png": "[encoded data removed]",
      "text/plain": [
       "<matplotlib.figure.Figure at 0x3de6438>"
      ]
     },
     "metadata": {},
     "output_type": "display_data"
    }
   ],
   "source": [
    "figure\n",
    "contourf(xx, yy, Z, cmap=plt.cm.Paired)\n",
    "plot(positive[:,0],positive[:,1],'ko')\n",
    "plot(negative[:,0],negative[:,1],'rx')"
   ]
  },
  {
   "cell_type": "code",
   "execution_count": 42,
   "metadata": {
    "collapsed": false
   },
   "outputs": [
    {
     "data": {
      "text/plain": [
       "(10.0, 30.0)"
      ]
     },
     "execution_count": 42,
     "metadata": {},
     "output_type": "execute_result"
    }
   ],
   "source": [
    "C[7,6],G[7,6]"
   ]
  },
  {
   "cell_type": "code",
   "execution_count": 43,
   "metadata": {
    "collapsed": false
   },
   "outputs": [
    {
     "data": {
      "text/plain": [
       "SVC(C=10, cache_size=200, class_weight=None, coef0=0.0,\n",
       "  decision_function_shape=None, degree=3, gamma=30, kernel='rbf',\n",
       "  max_iter=-1, probability=True, random_state=None, shrinking=True,\n",
       "  tol=0.001, verbose=False)"
      ]
     },
     "execution_count": 43,
     "metadata": {},
     "output_type": "execute_result"
    }
   ],
   "source": [
    "svc = svm.SVC(C=10, gamma=30, probability=True)\n",
    "svc.fit(X, y)"
   ]
  },
  {
   "cell_type": "code",
   "execution_count": 44,
   "metadata": {
    "collapsed": false
   },
   "outputs": [],
   "source": [
    "Z = svc.predict(Xpred)\n",
    "Z = Z.reshape(xx.shape)"
   ]
  },
  {
   "cell_type": "code",
   "execution_count": 45,
   "metadata": {
    "collapsed": false
   },
   "outputs": [
    {
     "data": {
      "text/plain": [
       "[<matplotlib.lines.Line2D at 0x20474048>]"
      ]
     },
     "execution_count": 45,
     "metadata": {},
     "output_type": "execute_result"
    },
    {
     "data": {
      "image/png": "[encoded data removed]",
      "text/plain": [
       "<matplotlib.figure.Figure at 0x1fe72160>"
      ]
     },
     "metadata": {},
     "output_type": "display_data"
    }
   ],
   "source": [
    "figure\n",
    "contourf(xx, yy, Z, cmap=plt.cm.Paired)\n",
    "plot(positive[:,0],positive[:,1],'ko')\n",
    "plot(negative[:,0],negative[:,1],'rx')"
   ]
  },
  {
   "cell_type": "markdown",
   "metadata": {},
   "source": [
    "*The first set of parameters gives a much smoother decision boundary.*"
   ]
  },
  {
   "cell_type": "markdown",
   "metadata": {},
   "source": [
    "## Use SVM to create a spam filter"
   ]
  },
  {
   "cell_type": "code",
   "execution_count": 46,
   "metadata": {
    "collapsed": false
   },
   "outputs": [],
   "source": [
    "import re\n",
    "import string"
   ]
  },
  {
   "cell_type": "code",
   "execution_count": 47,
   "metadata": {
    "collapsed": false
   },
   "outputs": [],
   "source": [
    "from stemming.porter2 import stem"
   ]
  },
  {
   "cell_type": "markdown",
   "metadata": {},
   "source": [
    "*Create dictionary from words in vocab.txt. vocab.txt contains all words which occur at least a 100 times in the spam corpus,\n",
    "resulting in a list of 1899 words.*"
   ]
  },
  {
   "cell_type": "code",
   "execution_count": 48,
   "metadata": {
    "collapsed": false
   },
   "outputs": [],
   "source": [
    "d = {}\n",
    "with open(\"vocab.txt\") as f:\n",
    "    for line in f:\n",
    "       (val, key) = line.split()\n",
    "       d[key] = int(val)"
   ]
  },
  {
   "cell_type": "markdown",
   "metadata": {},
   "source": [
    "*Process the emails. Map each word in the preprocessed emails into a list of word indices that contains the index of the word in the vocabulary list. v is a vector the length of the dictionary, with values zero (the word is not in the email) or one (the word is present in the email).*"
   ]
  },
  {
   "cell_type": "code",
   "execution_count": 49,
   "metadata": {
    "collapsed": false
   },
   "outputs": [],
   "source": [
    "def process_email(fname,d):\n",
    "    # read in file\n",
    "    with open (fname, \"r\") as myfile:\n",
    "        email_contents=myfile.read()\n",
    "        \n",
    "    # make lower case\n",
    "    email_contents = string.lower(email_contents)\n",
    "    # remove html\n",
    "    email_contents = re.sub('<[^<>]+>', ' ', email_contents)\n",
    "    # identify numbers\n",
    "    email_contents = re.sub('[0-9]+', ' number ',email_contents)\n",
    "    # identify web addresses\n",
    "    email_contents = re.sub('(http|https)://[^\\s]*', ' httpaddr ', email_contents)\n",
    "    # identify email addresses\n",
    "    email_contents = re.sub('[^\\s]+@[^\\s]+', ' emailaddr ', email_contents)\n",
    "    # identify dollars\n",
    "    email_contents = re.sub('[$]+', ' dollar ', email_contents)\n",
    "    # remove contractions\n",
    "    email_contents = re.sub('[\\']+',' ', email_contents)\n",
    "    # split into words\n",
    "    email_contents = re.findall(r\"[\\w']+\", email_contents)\n",
    "    # stem the words to classify similar words\n",
    "    email_contents = [stem(word) for word in email_contents]\n",
    "    \n",
    "    # itemize words in the dictionary\n",
    "    l = []\n",
    "    for word in email_contents:\n",
    "        if word in d:\n",
    "            l.append(d[word])\n",
    "    \n",
    "    v = zeros(len(d))\n",
    "    v[l] = 1\n",
    "    \n",
    "    return v"
   ]
  },
  {
   "cell_type": "code",
   "execution_count": 50,
   "metadata": {
    "collapsed": false,
    "scrolled": true
   },
   "outputs": [],
   "source": [
    "v = process_email('emailSample1.txt',d)"
   ]
  },
  {
   "cell_type": "code",
   "execution_count": 51,
   "metadata": {
    "collapsed": false
   },
   "outputs": [
    {
     "data": {
      "text/plain": [
       "(1899, 45.0)"
      ]
     },
     "execution_count": 51,
     "metadata": {},
     "output_type": "execute_result"
    }
   ],
   "source": [
    "len(v), sum(v)"
   ]
  },
  {
   "cell_type": "markdown",
   "metadata": {},
   "source": [
    "*Now use preprocessed data for training a spam filter. spamTrain.mat contains 4000 training examples of spam and non-spam email, while spamTest.mat contains 1000 test examples. Each original email was processed using the processEmail and emailFeatures\n",
    "functions and converted into a vector of words X. y is a vector which indicates whether the email was spam or not.*"
   ]
  },
  {
   "cell_type": "code",
   "execution_count": 52,
   "metadata": {
    "collapsed": false
   },
   "outputs": [],
   "source": [
    "spam_train = sio.loadmat('spamTrain.mat')\n",
    "spam_test = sio.loadmat('spamTest.mat')"
   ]
  },
  {
   "cell_type": "code",
   "execution_count": 53,
   "metadata": {
    "collapsed": false
   },
   "outputs": [
    {
     "data": {
      "text/plain": [
       "((4000L, 1899L), (4000L,), (1000L, 1899L), (1000L,))"
      ]
     },
     "execution_count": 53,
     "metadata": {},
     "output_type": "execute_result"
    }
   ],
   "source": [
    "X = spam_train['X']\n",
    "y = spam_train['y'].ravel()\n",
    "X_test = spam_test['Xtest']\n",
    "y_test = spam_test['ytest'].ravel()\n",
    "X.shape, y.shape, X_test.shape, y_test.shape"
   ]
  },
  {
   "cell_type": "markdown",
   "metadata": {},
   "source": [
    "*Train an SVC with the spam data. Use rbf kernel.*"
   ]
  },
  {
   "cell_type": "code",
   "execution_count": 54,
   "metadata": {
    "collapsed": false
   },
   "outputs": [
    {
     "data": {
      "text/plain": [
       "SVC(C=1.0, cache_size=200, class_weight=None, coef0=0.0,\n",
       "  decision_function_shape=None, degree=3, gamma='auto', kernel='rbf',\n",
       "  max_iter=-1, probability=False, random_state=None, shrinking=True,\n",
       "  tol=0.001, verbose=False)"
      ]
     },
     "execution_count": 54,
     "metadata": {},
     "output_type": "execute_result"
    }
   ],
   "source": [
    "svc = svm.SVC()\n",
    "svc"
   ]
  },
  {
   "cell_type": "markdown",
   "metadata": {},
   "source": [
    "*The spam classifier has 94% accuracy on the training data, and 95% accuracy on the test data.*"
   ]
  },
  {
   "cell_type": "code",
   "execution_count": 55,
   "metadata": {
    "collapsed": false
   },
   "outputs": [
    {
     "data": {
      "text/plain": [
       "0.94399999999999995"
      ]
     },
     "execution_count": 55,
     "metadata": {},
     "output_type": "execute_result"
    }
   ],
   "source": [
    "svc.fit(X, y)\n",
    "svc.score(X,y)"
   ]
  },
  {
   "cell_type": "code",
   "execution_count": 56,
   "metadata": {
    "collapsed": false
   },
   "outputs": [
    {
     "data": {
      "text/plain": [
       "0.95299999999999996"
      ]
     },
     "execution_count": 56,
     "metadata": {},
     "output_type": "execute_result"
    }
   ],
   "source": [
    "svc.score(X_test,y_test)"
   ]
  },
  {
   "cell_type": "code",
   "execution_count": 57,
   "metadata": {
    "collapsed": false
   },
   "outputs": [
    {
     "data": {
      "text/plain": [
       "(1277, 4000)"
      ]
     },
     "execution_count": 57,
     "metadata": {},
     "output_type": "execute_result"
    }
   ],
   "source": [
    "sum(y), len(y)"
   ]
  },
  {
   "cell_type": "markdown",
   "metadata": {},
   "source": [
    "*Try again, using linear kernel (note that this is in a 1899 dim space).*"
   ]
  },
  {
   "cell_type": "code",
   "execution_count": 58,
   "metadata": {
    "collapsed": false
   },
   "outputs": [],
   "source": [
    "svc2 = svm.LinearSVC(C=1, loss='hinge', max_iter=1000)"
   ]
  },
  {
   "cell_type": "code",
   "execution_count": 59,
   "metadata": {
    "collapsed": false
   },
   "outputs": [
    {
     "data": {
      "text/plain": [
       "LinearSVC(C=1, class_weight=None, dual=True, fit_intercept=True,\n",
       "     intercept_scaling=1, loss='hinge', max_iter=1000, multi_class='ovr',\n",
       "     penalty='l2', random_state=None, tol=0.0001, verbose=0)"
      ]
     },
     "execution_count": 59,
     "metadata": {},
     "output_type": "execute_result"
    }
   ],
   "source": [
    "svc2.fit(X,y)"
   ]
  },
  {
   "cell_type": "markdown",
   "metadata": {},
   "source": [
    "*The linear SVC actually does a better job than with the rbf kernel.*"
   ]
  },
  {
   "cell_type": "code",
   "execution_count": 60,
   "metadata": {
    "collapsed": false
   },
   "outputs": [
    {
     "data": {
      "text/plain": [
       "0.97699999999999998"
      ]
     },
     "execution_count": 60,
     "metadata": {},
     "output_type": "execute_result"
    }
   ],
   "source": [
    "svc2.score(X_test,y_test)"
   ]
  },
  {
   "cell_type": "markdown",
   "metadata": {},
   "source": [
    "*Check which words are most associated with spam according to the SVM.*"
   ]
  },
  {
   "cell_type": "code",
   "execution_count": 61,
   "metadata": {
    "collapsed": false
   },
   "outputs": [],
   "source": [
    "w = svc2.coef_"
   ]
  },
  {
   "cell_type": "code",
   "execution_count": 62,
   "metadata": {
    "collapsed": false
   },
   "outputs": [],
   "source": [
    "k = sorted(d.keys(), key = d.get)"
   ]
  },
  {
   "cell_type": "code",
   "execution_count": 63,
   "metadata": {
    "collapsed": false
   },
   "outputs": [],
   "source": [
    "key_weight = zip(w.T,k)"
   ]
  },
  {
   "cell_type": "code",
   "execution_count": 64,
   "metadata": {
    "collapsed": false
   },
   "outputs": [],
   "source": [
    "s = sorted(key_weight, reverse=True)"
   ]
  },
  {
   "cell_type": "code",
   "execution_count": 65,
   "metadata": {
    "collapsed": false
   },
   "outputs": [
    {
     "data": {
      "text/plain": [
       "[(array([ 0.70872631]), 'our'),\n",
       " (array([ 0.59182711]), 'flash'),\n",
       " (array([ 0.5475101]), 'wi'),\n",
       " (array([ 0.54325597]), 'numberb'),\n",
       " (array([ 0.5167687]), 'instruct'),\n",
       " (array([ 0.50724728]), 'remov'),\n",
       " (array([ 0.49155915]), 'visit'),\n",
       " (array([ 0.48511653]), 'click'),\n",
       " (array([ 0.47582354]), 'bodi'),\n",
       " (array([ 0.45731709]), 'guarante'),\n",
       " (array([ 0.45312999]), 'send'),\n",
       " (array([ 0.45039365]), 'tel'),\n",
       " (array([ 0.41652344]), 'tm'),\n",
       " (array([ 0.41557159]), 'basenumb'),\n",
       " (array([ 0.40052126]), 'dollarnumb'),\n",
       " (array([ 0.39196121]), 'will'),\n",
       " (array([ 0.36791147]), 'nbsp'),\n",
       " (array([ 0.36704]), 'lo'),\n",
       " (array([ 0.35218545]), 'pai'),\n",
       " (array([ 0.34237554]), 'below'),\n",
       " (array([ 0.34094634]), 'credit'),\n",
       " (array([ 0.33720716]), 'real'),\n",
       " (array([ 0.32567734]), 'request'),\n",
       " (array([ 0.30216251]), 'price'),\n",
       " (array([ 0.30089465]), 'websit'),\n",
       " (array([ 0.29716195]), 'fa'),\n",
       " (array([ 0.29607502]), 'mai'),\n",
       " (array([ 0.29486085]), 'most'),\n",
       " (array([ 0.2780424]), 'want'),\n",
       " (array([ 0.27768845]), 'hear'),\n",
       " (array([ 0.27232288]), 'recent'),\n",
       " (array([ 0.27128528]), 'welcom'),\n",
       " (array([ 0.26645068]), 'se'),\n",
       " (array([ 0.25954909]), 'hour'),\n",
       " (array([ 0.25869603]), 'bonu'),\n",
       " (array([ 0.25865718]), 'da'),\n",
       " (array([ 0.25762454]), 'interest'),\n",
       " (array([ 0.25420477]), 'anumb'),\n",
       " (array([ 0.25036384]), 'never'),\n",
       " (array([ 0.24417614]), 'absolut'),\n",
       " (array([ 0.2434128]), 'mail'),\n",
       " (array([ 0.23911955]), 'less'),\n",
       " (array([ 0.23489052]), 'girl'),\n",
       " (array([ 0.23332846]), 'ad'),\n",
       " (array([ 0.23172158]), 'come'),\n",
       " (array([ 0.231188]), 'longer'),\n",
       " (array([ 0.22800602]), 'access'),\n",
       " (array([ 0.22485961]), 'becaus'),\n",
       " (array([ 0.22355717]), 'form'),\n",
       " (array([ 0.22334563]), 'design'),\n",
       " (array([ 0.21896356]), 'tabl'),\n",
       " (array([ 0.21475077]), 'contact'),\n",
       " (array([ 0.21421815]), 'market'),\n",
       " (array([ 0.21289886]), 'com'),\n",
       " (array([ 0.21156954]), 'increas'),\n",
       " (array([ 0.21054083]), 'your'),\n",
       " (array([ 0.20919005]), 'huge'),\n",
       " (array([ 0.20839831]), 'thinkgeek'),\n",
       " (array([ 0.20839831]), 'geek'),\n",
       " (array([ 0.20788553]), 'st'),\n",
       " (array([ 0.20747291]), 'industri'),\n",
       " (array([ 0.20695543]), 'numberx'),\n",
       " (array([ 0.20546748]), 'dear'),\n",
       " (array([ 0.20241096]), 'opt'),\n",
       " (array([ 0.20226709]), 'meet'),\n",
       " (array([ 0.20060496]), 'man'),\n",
       " (array([ 0.19873076]), 'involv'),\n",
       " (array([ 0.19811661]), 'am'),\n",
       " (array([ 0.197952]), 'mpnumber'),\n",
       " (array([ 0.19704813]), 'method'),\n",
       " (array([ 0.19675922]), 'deposit'),\n",
       " (array([ 0.19626352]), 'state'),\n",
       " (array([ 0.19566274]), 'heaven'),\n",
       " (array([ 0.19510887]), 'ever'),\n",
       " (array([ 0.19477611]), 'sf'),\n",
       " (array([ 0.19462162]), 'site'),\n",
       " (array([ 0.19373288]), 'wish'),\n",
       " (array([ 0.19358501]), 'here'),\n",
       " (array([ 0.19343273]), 'offer'),\n",
       " (array([ 0.19313618]), 'grow'),\n",
       " (array([ 0.19247689]), 'blue'),\n",
       " (array([ 0.19065599]), 'amaz'),\n",
       " (array([ 0.18972621]), 'de'),\n",
       " (array([ 0.18971501]), 'includ'),\n",
       " (array([ 0.18961185]), 'linux'),\n",
       " (array([ 0.18785945]), 'can'),\n",
       " (array([ 0.18550383]), 'program'),\n",
       " (array([ 0.18341543]), 'ga'),\n",
       " (array([ 0.1812384]), 'world'),\n",
       " (array([ 0.18030682]), 'maintain'),\n",
       " (array([ 0.17834113]), 'lose'),\n",
       " (array([ 0.17744163]), 'noth'),\n",
       " (array([ 0.17701674]), 'parti'),\n",
       " (array([ 0.17663771]), 'bottl'),\n",
       " (array([ 0.17663146]), 'paid'),\n",
       " (array([ 0.1764602]), 'poor'),\n",
       " (array([ 0.1759867]), 'ce'),\n",
       " (array([ 0.1758523]), 'who'),\n",
       " (array([ 0.17510938]), 'cost'),\n",
       " (array([ 0.17465674]), 'submit'),\n",
       " (array([ 0.17410798]), 'model'),\n",
       " (array([ 0.17393749]), 'worldwid'),\n",
       " (array([ 0.1738972]), 'these'),\n",
       " (array([ 0.17308877]), 'transfer'),\n",
       " (array([ 0.17269261]), 'resid'),\n",
       " (array([ 0.17196284]), 'unlimit'),\n",
       " (array([ 0.17188166]), 'effect'),\n",
       " (array([ 0.17144146]), 'hello'),\n",
       " (array([ 0.17102232]), 'high'),\n",
       " (array([ 0.17096238]), 'health'),\n",
       " (array([ 0.16997213]), 'cooper'),\n",
       " (array([ 0.16989558]), 'incred'),\n",
       " (array([ 0.16944762]), 'urgent'),\n",
       " (array([ 0.16872946]), 'sometim'),\n",
       " (array([ 0.16799516]), 'wait'),\n",
       " (array([ 0.16789492]), 'life'),\n",
       " (array([ 0.16714555]), 'cent'),\n",
       " (array([ 0.1659028]), 'third'),\n",
       " (array([ 0.16474902]), 'blank'),\n",
       " (array([ 0.16402039]), 'let'),\n",
       " (array([ 0.16389718]), 'sa'),\n",
       " (array([ 0.16349001]), 'realli'),\n",
       " (array([ 0.16338655]), 'todai'),\n",
       " (array([ 0.16338369]), 'repli'),\n",
       " (array([ 0.16122981]), 'weight'),\n",
       " (array([ 0.1603436]), 'start'),\n",
       " (array([ 0.16002124]), 'ba'),\n",
       " (array([ 0.15804715]), 'multipart'),\n",
       " (array([ 0.15783712]), 'sexual'),\n",
       " (array([ 0.15768478]), 'ask'),\n",
       " (array([ 0.15750818]), 'sex'),\n",
       " (array([ 0.15739319]), 'week'),\n",
       " (array([ 0.15720333]), 'number'),\n",
       " (array([ 0.15603853]), 'free'),\n",
       " (array([ 0.15538404]), 'public'),\n",
       " (array([ 0.15509014]), 'although'),\n",
       " (array([ 0.15478791]), 'type'),\n",
       " (array([ 0.15439513]), 've'),\n",
       " (array([ 0.15363263]), 'compani'),\n",
       " (array([ 0.15360193]), 'simpl'),\n",
       " (array([ 0.15303749]), 'sale'),\n",
       " (array([ 0.15249908]), 'cannot'),\n",
       " (array([ 0.1524317]), 'franc'),\n",
       " (array([ 0.15200301]), 'self'),\n",
       " (array([ 0.15199782]), 'behalf'),\n",
       " (array([ 0.15125575]), 'fact'),\n",
       " (array([ 0.15060311]), 'opinion'),\n",
       " (array([ 0.15057274]), 'major'),\n",
       " (array([ 0.14994194]), 'immedi'),\n",
       " (array([ 0.14989283]), 'enumb'),\n",
       " (array([ 0.1498393]), 'director'),\n",
       " (array([ 0.14981796]), 'pictur'),\n",
       " (array([ 0.14929314]), 'we'),\n",
       " (array([ 0.14912744]), 'loss'),\n",
       " (array([ 0.14775713]), 'specif'),\n",
       " (array([ 0.14746199]), 'famili'),\n",
       " (array([ 0.1474458]), 'limit'),\n",
       " (array([ 0.14640568]), 'profession'),\n",
       " (array([ 0.14599705]), 'minut'),\n",
       " (array([ 0.14549235]), 'decid'),\n",
       " (array([ 0.14506896]), 'opportun'),\n",
       " (array([ 0.14505455]), 'qualifi'),\n",
       " (array([ 0.14496315]), 'email'),\n",
       " (array([ 0.14424236]), 'reliabl'),\n",
       " (array([ 0.14295195]), 'net'),\n",
       " (array([ 0.14238997]), 'jabber'),\n",
       " (array([ 0.14199878]), 'came'),\n",
       " (array([ 0.14184732]), 'under'),\n",
       " (array([ 0.14097512]), 'current'),\n",
       " (array([ 0.14009582]), 'soon'),\n",
       " (array([ 0.13989246]), 'sever'),\n",
       " (array([ 0.13986337]), 'requir'),\n",
       " (array([ 0.13966786]), 'safe'),\n",
       " (array([ 0.13791319]), 'promot'),\n",
       " (array([ 0.13789371]), 'sincer'),\n",
       " (array([ 0.13723457]), 'person'),\n",
       " (array([ 0.13696142]), 'yourself'),\n",
       " (array([ 0.13672768]), 'him'),\n",
       " (array([ 0.135909]), 'actual'),\n",
       " (array([ 0.13574016]), 'chanc'),\n",
       " (array([ 0.13565387]), 'protect'),\n",
       " (array([ 0.13520255]), 'id'),\n",
       " (array([ 0.13459493]), 'trade'),\n",
       " (array([ 0.13357709]), 'posit'),\n",
       " (array([ 0.13278473]), 'minimum'),\n",
       " (array([ 0.13239743]), 'her'),\n",
       " (array([ 0.13233971]), 'reason'),\n",
       " (array([ 0.13224695]), 'peopl'),\n",
       " (array([ 0.13122442]), 'skill'),\n",
       " (array([ 0.13099006]), 'advic'),\n",
       " (array([ 0.130717]), 'visual'),\n",
       " (array([ 0.1306956]), 'feel'),\n",
       " (array([ 0.13022797]), 'women'),\n",
       " (array([ 0.12958122]), 'mistak'),\n",
       " (array([ 0.1292211]), 'impress'),\n",
       " (array([ 0.12859191]), 'financi'),\n",
       " (array([ 0.12847416]), 'later'),\n",
       " (array([ 0.12806113]), 'transact'),\n",
       " (array([ 0.12685387]), 'tire'),\n",
       " (array([ 0.12628162]), 'job'),\n",
       " (array([ 0.12566805]), 'www'),\n",
       " (array([ 0.12523491]), 'either'),\n",
       " (array([ 0.1249685]), 'content'),\n",
       " (array([ 0.12398365]), 'law'),\n",
       " (array([ 0.12288069]), 'dollar'),\n",
       " (array([ 0.12241738]), 'letter'),\n",
       " (array([ 0.1220802]), 'fun'),\n",
       " (array([ 0.12205626]), 'with'),\n",
       " (array([ 0.12091044]), 'dnumber'),\n",
       " (array([ 0.11978756]), 'direct'),\n",
       " (array([ 0.11951938]), 'boundari'),\n",
       " (array([ 0.11910296]), 'sold'),\n",
       " (array([ 0.11889703]), 'into'),\n",
       " (array([ 0.1187825]), 'privat'),\n",
       " (array([ 0.11870817]), 'card'),\n",
       " (array([ 0.11855406]), 'month'),\n",
       " (array([ 0.11851793]), 'receiv'),\n",
       " (array([ 0.11775089]), 'need'),\n",
       " (array([ 0.11721798]), 'fund'),\n",
       " (array([ 0.11650732]), 'magazin'),\n",
       " (array([ 0.11642775]), 'remot'),\n",
       " (array([ 0.11639579]), 'big'),\n",
       " (array([ 0.11625922]), 'ed'),\n",
       " (array([ 0.11545251]), 'low'),\n",
       " (array([ 0.11539704]), 'allow'),\n",
       " (array([ 0.11512515]), 'fastest'),\n",
       " (array([ 0.11482653]), 'track'),\n",
       " (array([ 0.1147916]), 'june'),\n",
       " (array([ 0.1146845]), 'sorri'),\n",
       " (array([ 0.11441111]), 'resourc'),\n",
       " (array([ 0.11430963]), 'fee'),\n",
       " (array([ 0.11429378]), 'mani'),\n",
       " (array([ 0.11376719]), 'link'),\n",
       " (array([ 0.11307074]), 'late'),\n",
       " (array([ 0.11288221]), 'monei'),\n",
       " (array([ 0.11283844]), 'bug'),\n",
       " (array([ 0.11282652]), 'port'),\n",
       " (array([ 0.11280733]), 'question'),\n",
       " (array([ 0.11257647]), 'go'),\n",
       " (array([ 0.11174434]), 'oblig'),\n",
       " (array([ 0.11170556]), 'copi'),\n",
       " (array([ 0.11087773]), 'confidenti'),\n",
       " (array([ 0.11064679]), 'platform'),\n",
       " (array([ 0.110313]), 'record'),\n",
       " (array([ 0.11028828]), 'futur'),\n",
       " (array([ 0.10937507]), 'consult'),\n",
       " (array([ 0.10919685]), 'citi'),\n",
       " (array([ 0.10813028]), 'commun'),\n",
       " (array([ 0.10787354]), 'all'),\n",
       " (array([ 0.10682431]), 'window'),\n",
       " (array([ 0.10660044]), 'text'),\n",
       " (array([ 0.10654136]), 'china'),\n",
       " (array([ 0.10602803]), 'proven'),\n",
       " (array([ 0.10569081]), 'size'),\n",
       " (array([ 0.10462701]), 'base'),\n",
       " (array([ 0.10419197]), 'secret'),\n",
       " (array([ 0.10390522]), 'more'),\n",
       " (array([ 0.10345231]), 'plai'),\n",
       " (array([ 0.10336214]), 'forev'),\n",
       " (array([ 0.10331666]), 'risk'),\n",
       " (array([ 0.10304781]), 'seen'),\n",
       " (array([ 0.10293436]), 'bank'),\n",
       " (array([ 0.10212088]), 'alwai'),\n",
       " (array([ 0.10209673]), 'justin'),\n",
       " (array([ 0.10190531]), 'befor'),\n",
       " (array([ 0.10166997]), 'materi'),\n",
       " (array([ 0.10154909]), 'invest'),\n",
       " (array([ 0.10079651]), 'automat'),\n",
       " (array([ 0.10044646]), 'energi'),\n",
       " (array([ 0.10030199]), 'each'),\n",
       " (array([ 0.10015645]), 'friend'),\n",
       " (array([ 0.10003066]), 'pain'),\n",
       " (array([ 0.09955]), 'choic'),\n",
       " (array([ 0.09894784]), 'adult'),\n",
       " (array([ 0.09763005]), 'period'),\n",
       " (array([ 0.09760763]), 'sent'),\n",
       " (array([ 0.09760445]), 'process'),\n",
       " (array([ 0.09749405]), 'gold'),\n",
       " (array([ 0.09742526]), 'hous'),\n",
       " (array([ 0.09703725]), 'lead'),\n",
       " (array([ 0.09651822]), 'dont'),\n",
       " (array([ 0.09634809]), 'saw'),\n",
       " (array([ 0.09628109]), 'sell'),\n",
       " (array([ 0.09539992]), 'enhanc'),\n",
       " (array([ 0.09446458]), 'feed'),\n",
       " (array([ 0.09444821]), 'le'),\n",
       " (array([ 0.09434686]), 'chat'),\n",
       " (array([ 0.09394182]), 'contract'),\n",
       " (array([ 0.09386238]), 'mortgag'),\n",
       " (array([ 0.09357457]), 'make'),\n",
       " (array([ 0.09325019]), 'name'),\n",
       " (array([ 0.09309423]), 'unsolicit'),\n",
       " (array([ 0.09301659]), 'qualiti'),\n",
       " (array([ 0.09174197]), 'readi'),\n",
       " (array([ 0.09149259]), 'countri'),\n",
       " (array([ 0.09114539]), 'legal'),\n",
       " (array([ 0.09114103]), 'awar'),\n",
       " (array([ 0.09105912]), 'class'),\n",
       " (array([ 0.09091752]), 'west'),\n",
       " (array([ 0.0907473]), 'seek'),\n",
       " (array([ 0.09063764]), 'charg'),\n",
       " (array([ 0.09057523]), 'step'),\n",
       " (array([ 0.09036616]), 'ani'),\n",
       " (array([ 0.0900614]), 'appear'),\n",
       " (array([ 0.09005859]), 'taken'),\n",
       " (array([ 0.08985208]), 'gain'),\n",
       " (array([ 0.08916072]), 'but'),\n",
       " (array([ 0.0891397]), 'engin'),\n",
       " (array([ 0.08879714]), 'tape'),\n",
       " (array([ 0.08835628]), 'bui'),\n",
       " (array([ 0.08821396]), 'commiss'),\n",
       " (array([ 0.08797021]), 'nice'),\n",
       " (array([ 0.08762954]), 'delet'),\n",
       " (array([ 0.08756529]), 'thank'),\n",
       " (array([ 0.08709301]), 'hat'),\n",
       " (array([ 0.08473538]), 'mh'),\n",
       " (array([ 0.08446042]), 'reach'),\n",
       " (array([ 0.08438449]), 'easi'),\n",
       " (array([ 0.08434906]), 'employe'),\n",
       " (array([ 0.08428875]), 'weekli'),\n",
       " (array([ 0.08360418]), 'close'),\n",
       " (array([ 0.0835215]), 'matter'),\n",
       " (array([ 0.08341124]), 'cabl'),\n",
       " (array([ 0.08341022]), 'catch'),\n",
       " (array([ 0.08331754]), 'court'),\n",
       " (array([ 0.08308474]), 'lot'),\n",
       " (array([ 0.08294454]), 'ca'),\n",
       " (array([ 0.08243264]), 'look'),\n",
       " (array([ 0.08205166]), 'profit'),\n",
       " (array([ 0.08198996]), 'attornei'),\n",
       " (array([ 0.08167458]), 'player'),\n",
       " (array([ 0.08154341]), 'ticket'),\n",
       " (array([ 0.081335]), 'control'),\n",
       " (array([ 0.08099365]), 'equip'),\n",
       " (array([ 0.0808819]), 'patent'),\n",
       " (array([ 0.08025316]), 'treat'),\n",
       " (array([ 0.08023461]), 'ye'),\n",
       " (array([ 0.07991968]), 'zip'),\n",
       " (array([ 0.07991366]), 'neg'),\n",
       " (array([ 0.0795955]), 'south'),\n",
       " (array([ 0.07959366]), 'brian'),\n",
       " (array([ 0.0791411]), 'region'),\n",
       " (array([ 0.07895454]), 'employ'),\n",
       " (array([ 0.07893136]), 'pleas'),\n",
       " (array([ 0.07890826]), 'defin'),\n",
       " (array([ 0.07860234]), 'refin'),\n",
       " (array([ 0.07823615]), 'everi'),\n",
       " (array([ 0.07762685]), 'care'),\n",
       " (array([ 0.07757368]), 'assist'),\n",
       " (array([ 0.07752439]), 'have'),\n",
       " (array([ 0.07727205]), 'sampl'),\n",
       " (array([ 0.07701338]), 'target'),\n",
       " (array([ 0.07699865]), 'larg'),\n",
       " (array([ 0.07698582]), 'stream'),\n",
       " (array([ 0.07694271]), 'search'),\n",
       " (array([ 0.075247]), 'made'),\n",
       " (array([ 0.07476783]), 'usd'),\n",
       " (array([ 0.0746678]), 'numberth'),\n",
       " (array([ 0.07456843]), 'note'),\n",
       " (array([ 0.07450679]), 'economi'),\n",
       " (array([ 0.07443276]), 'touch'),\n",
       " (array([ 0.07421224]), 'support'),\n",
       " (array([ 0.07404343]), 'perman'),\n",
       " (array([ 0.07365648]), 'programm'),\n",
       " (array([ 0.07357939]), 'wrong'),\n",
       " (array([ 0.07357155]), 'north'),\n",
       " (array([ 0.073449]), 'experi'),\n",
       " (array([ 0.07308782]), 'web'),\n",
       " (array([ 0.07283591]), 'realiz'),\n",
       " (array([ 0.07267028]), 'easili'),\n",
       " (array([ 0.07254301]), 'two'),\n",
       " (array([ 0.07219957]), 'physic'),\n",
       " (array([ 0.07213498]), 'combin'),\n",
       " (array([ 0.07147153]), 'media'),\n",
       " (array([ 0.07142045]), 'obtain'),\n",
       " (array([ 0.070253]), 'further'),\n",
       " (array([ 0.07014152]), 'young'),\n",
       " (array([ 0.06990289]), 'attract'),\n",
       " (array([ 0.0694511]), 'success'),\n",
       " (array([ 0.06923148]), 'again'),\n",
       " (array([ 0.06882126]), 'ms'),\n",
       " (array([ 0.06870165]), 'quick'),\n",
       " (array([ 0.06836373]), 'articl'),\n",
       " (array([ 0.06816437]), 'licens'),\n",
       " (array([ 0.06793342]), 'cash'),\n",
       " (array([ 0.06775851]), 'avail'),\n",
       " (array([ 0.06749655]), 'male'),\n",
       " (array([ 0.06715682]), 'africa'),\n",
       " (array([ 0.0669135]), 'while'),\n",
       " (array([ 0.06686298]), 'extrem'),\n",
       " (array([ 0.06681574]), 'cover'),\n",
       " (array([ 0.06675859]), 'incom'),\n",
       " (array([ 0.06673722]), 'al'),\n",
       " (array([ 0.06673339]), 'en'),\n",
       " (array([ 0.06658425]), 'premium'),\n",
       " (array([ 0.06595175]), 'old'),\n",
       " (array([ 0.06594172]), 'great'),\n",
       " (array([ 0.06592211]), 'wa'),\n",
       " (array([ 0.06565774]), 'encod'),\n",
       " (array([ 0.06539525]), 'travel'),\n",
       " (array([ 0.06526649]), 'associ'),\n",
       " (array([ 0.06471364]), 'account'),\n",
       " (array([ 0.064688]), 'connect'),\n",
       " (array([ 0.0645649]), 'numberm'),\n",
       " (array([ 0.06454915]), 'altern'),\n",
       " (array([ 0.06452853]), 'percentag'),\n",
       " (array([ 0.06436998]), 'final'),\n",
       " (array([ 0.06408866]), 'brand'),\n",
       " (array([ 0.06408397]), 'gui'),\n",
       " (array([ 0.06405221]), 'kept'),\n",
       " (array([ 0.06402897]), 'relev'),\n",
       " (array([ 0.06392729]), 'diet'),\n",
       " (array([ 0.06365984]), 'see'),\n",
       " (array([ 0.06352574]), 'font'),\n",
       " (array([ 0.06252109]), 'fax'),\n",
       " (array([ 0.06213189]), 'satellit'),\n",
       " (array([ 0.0621052]), 'true'),\n",
       " (array([ 0.06195082]), 'object'),\n",
       " (array([ 0.06190463]), 'inumb'),\n",
       " (array([ 0.06182557]), 'you'),\n",
       " (array([ 0.06166546]), 'littl'),\n",
       " (array([ 0.06160316]), 'usa'),\n",
       " (array([ 0.06118604]), 'expand'),\n",
       " (array([ 0.06013856]), 'believ'),\n",
       " (array([ 0.06007785]), 'rememb'),\n",
       " (array([ 0.06002556]), 'year'),\n",
       " (array([ 0.0599538]), 'photo'),\n",
       " (array([ 0.05974386]), 'bill'),\n",
       " (array([ 0.05971282]), 'must'),\n",
       " (array([ 0.05960239]), 'amount'),\n",
       " (array([ 0.0595441]), 'dr'),\n",
       " (array([ 0.059471]), 'found'),\n",
       " (array([ 0.05931272]), 'telephon'),\n",
       " (array([ 0.05920295]), 'averag'),\n",
       " (array([ 0.05916171]), 'judgment'),\n",
       " (array([ 0.05861479]), 'truli'),\n",
       " (array([ 0.05850864]), 'explor'),\n",
       " (array([ 0.05814963]), 'mr'),\n",
       " (array([ 0.05769057]), 'deal'),\n",
       " (array([ 0.05743685]), 'star'),\n",
       " (array([ 0.0569286]), 'mini'),\n",
       " (array([ 0.05680209]), 'necessari'),\n",
       " (array([ 0.05673193]), 'quit'),\n",
       " (array([ 0.05613506]), 'seriou'),\n",
       " (array([ 0.05606176]), 'roll'),\n",
       " (array([ 0.05591161]), 'faster'),\n",
       " (array([ 0.05585744]), 'accept'),\n",
       " (array([ 0.05567965]), 'integr'),\n",
       " (array([ 0.05556918]), 'wife'),\n",
       " (array([ 0.05555386]), 'approv'),\n",
       " (array([ 0.05538751]), 'pc'),\n",
       " (array([ 0.05522464]), 'payment'),\n",
       " (array([ 0.0545793]), 'parent'),\n",
       " (array([ 0.05454606]), 'educ'),\n",
       " (array([ 0.05452555]), 'ban'),\n",
       " (array([ 0.0543735]), 'fail'),\n",
       " (array([ 0.05434076]), 'talk'),\n",
       " (array([ 0.05404132]), 'random'),\n",
       " (array([ 0.05399566]), 'determin'),\n",
       " (array([ 0.05382137]), 'small'),\n",
       " (array([ 0.05357793]), 'call'),\n",
       " (array([ 0.05299498]), 'revenu'),\n",
       " (array([ 0.05257686]), 'financ'),\n",
       " (array([ 0.05242538]), 'capit'),\n",
       " (array([ 0.05179222]), 'techniqu'),\n",
       " (array([ 0.05173785]), 'usdollarnumb'),\n",
       " (array([ 0.05162156]), 'within'),\n",
       " (array([ 0.05118461]), 'except'),\n",
       " (array([ 0.05100063]), 'human'),\n",
       " (array([ 0.05069686]), 'discoveri'),\n",
       " (array([ 0.05058833]), 'document'),\n",
       " (array([ 0.05038494]), 'ten'),\n",
       " (array([ 0.04995846]), 'oper'),\n",
       " (array([ 0.04990261]), 'fit'),\n",
       " (array([ 0.0497835]), 'smoke'),\n",
       " (array([ 0.04934796]), 'video'),\n",
       " (array([ 0.0493306]), 'earn'),\n",
       " (array([ 0.04926262]), 'stai'),\n",
       " (array([ 0.04923567]), 'kei'),\n",
       " (array([ 0.04920805]), 'congress'),\n",
       " (array([ 0.04903171]), 'situat'),\n",
       " (array([ 0.04881652]), 'advis'),\n",
       " (array([ 0.04864559]), 'tip'),\n",
       " (array([ 0.04857547]), 'back'),\n",
       " (array([ 0.04835319]), 'california'),\n",
       " (array([ 0.04815062]), 'et'),\n",
       " (array([ 0.04814743]), 'career'),\n",
       " (array([ 0.0480168]), 'messag'),\n",
       " (array([ 0.04796303]), 'driver'),\n",
       " (array([ 0.04785297]), 'extract'),\n",
       " (array([ 0.04764191]), 'avoid'),\n",
       " (array([ 0.04762758]), 'pull'),\n",
       " (array([ 0.04701684]), 'page'),\n",
       " (array([ 0.04695553]), 'reduc'),\n",
       " (array([ 0.04677897]), 'advanc'),\n",
       " (array([ 0.04677579]), 'thousand'),\n",
       " (array([ 0.0466348]), 'valuabl'),\n",
       " (array([ 0.04596311]), 'format'),\n",
       " (array([ 0.04541455]), 'intellig'),\n",
       " (array([ 0.0453065]), 'histori'),\n",
       " (array([ 0.04498153]), 'degre'),\n",
       " (array([ 0.04447688]), 'monthli'),\n",
       " (array([ 0.04439623]), 'mine'),\n",
       " (array([ 0.0442379]), 'benefit'),\n",
       " (array([ 0.04404743]), 'mother'),\n",
       " (array([ 0.04378691]), 'factor'),\n",
       " (array([ 0.04371533]), 'long'),\n",
       " (array([ 0.04358892]), 'democrat'),\n",
       " (array([ 0.04340465]), 'father'),\n",
       " (array([ 0.0433818]), 'trust'),\n",
       " (array([ 0.04295771]), 'independ'),\n",
       " (array([ 0.0427086]), 'highli'),\n",
       " (array([ 0.04263412]), 'cb'),\n",
       " (array([ 0.04236181]), 'default'),\n",
       " (array([ 0.0422126]), 'condit'),\n",
       " (array([ 0.04210554]), 'room'),\n",
       " (array([ 0.04202468]), 'busi'),\n",
       " (array([ 0.04190953]), 'femal'),\n",
       " (array([ 0.04180634]), 'unit'),\n",
       " (array([ 0.04171357]), 'width'),\n",
       " (array([ 0.04158564]), 'toward'),\n",
       " (array([ 0.04137221]), 'fnumber'),\n",
       " (array([ 0.0411953]), 'medic'),\n",
       " (array([ 0.0410384]), 'prepar'),\n",
       " (array([ 0.04087894]), 'wide'),\n",
       " (array([ 0.04086842]), 'ago'),\n",
       " (array([ 0.04075003]), 'disk'),\n",
       " (array([ 0.03981323]), 'agent'),\n",
       " (array([ 0.0397415]), 'tax'),\n",
       " (array([ 0.03964455]), 'excit'),\n",
       " (array([ 0.03957882]), 'iii'),\n",
       " (array([ 0.03957777]), 'onc'),\n",
       " (array([ 0.0395265]), 'discov'),\n",
       " (array([ 0.03936908]), 'republ'),\n",
       " (array([ 0.03931325]), 'strong'),\n",
       " (array([ 0.03868546]), 'pipe'),\n",
       " (array([ 0.03861298]), 'indic'),\n",
       " (array([ 0.03855829]), 'fight'),\n",
       " (array([ 0.03850191]), 'trip'),\n",
       " (array([ 0.03840658]), 'hundr'),\n",
       " (array([ 0.038284]), 'fortun'),\n",
       " (array([ 0.03826435]), 'refer'),\n",
       " (array([ 0.03814141]), 'movi'),\n",
       " (array([ 0.03806263]), 'act'),\n",
       " (array([ 0.03792156]), 'total'),\n",
       " (array([ 0.03788221]), 'reveal'),\n",
       " (array([ 0.03786867]), 'bulk'),\n",
       " (array([ 0.03745674]), 'abov'),\n",
       " (array([ 0.0373902]), 'purpos'),\n",
       " (array([ 0.03731556]), 'numberd'),\n",
       " (array([ 0.03706837]), 'cnumber'),\n",
       " (array([ 0.03690611]), 'reg'),\n",
       " (array([ 0.03686618]), 'certainli'),\n",
       " (array([ 0.03684608]), 'variou'),\n",
       " (array([ 0.0365176]), 'brain'),\n",
       " (array([ 0.03627974]), 'worth'),\n",
       " (array([ 0.03622563]), 'higher'),\n",
       " (array([ 0.03603162]), 'ultim'),\n",
       " (array([ 0.03599041]), 'slow'),\n",
       " (array([ 0.03593653]), 'global'),\n",
       " (array([ 0.03589437]), 'interview'),\n",
       " (array([ 0.035841]), 'good'),\n",
       " (array([ 0.03566697]), 'numbera'),\n",
       " (array([ 0.03544063]), 'pick'),\n",
       " (array([ 0.03533733]), 'entertain'),\n",
       " (array([ 0.03532984]), 'distribut'),\n",
       " (array([ 0.0351523]), 'rich'),\n",
       " (array([ 0.03493229]), 'kingdom'),\n",
       " (array([ 0.03467192]), 'natur'),\n",
       " (array([ 0.03432099]), 'rate'),\n",
       " (array([ 0.03402932]), 'staff'),\n",
       " (array([ 0.03397985]), 'held'),\n",
       " (array([ 0.03389047]), 'america'),\n",
       " (array([ 0.03370302]), 'cross'),\n",
       " (array([ 0.03368938]), 'largest'),\n",
       " (array([ 0.03357511]), 'depart'),\n",
       " (array([ 0.03351852]), 'secur'),\n",
       " (array([ 0.03346364]), 'paragraph'),\n",
       " (array([ 0.03329031]), 'therefor'),\n",
       " (array([ 0.03328467]), 'calcul'),\n",
       " (array([ 0.03325869]), 'advantag'),\n",
       " (array([ 0.03306897]), 'stabl'),\n",
       " (array([ 0.03301714]), 'sum'),\n",
       " (array([ 0.03293017]), 'system'),\n",
       " (array([ 0.03281996]), 'whole'),\n",
       " (array([ 0.03277275]), 'steve'),\n",
       " (array([ 0.03276776]), 'os'),\n",
       " (array([ 0.03226849]), 'border'),\n",
       " (array([ 0.03224301]), 'in'),\n",
       " (array([ 0.03198386]), 'be'),\n",
       " (array([ 0.03195358]), 'speed'),\n",
       " (array([ 0.03185846]), 'box'),\n",
       " (array([ 0.03182733]), 'planta'),\n",
       " (array([ 0.0317051]), 'mime'),\n",
       " (array([ 0.03121263]), 'both'),\n",
       " (array([ 0.03112326]), 'burn'),\n",
       " (array([ 0.03098542]), 'howev'),\n",
       " (array([ 0.03072875]), 'plu'),\n",
       " (array([ 0.03065424]), 'consum'),\n",
       " (array([ 0.03054566]), 'live'),\n",
       " (array([ 0.03043605]), 'do'),\n",
       " (array([ 0.03030359]), 'planet'),\n",
       " (array([ 0.0301671]), 'electron'),\n",
       " (array([ 0.03012573]), 'abil'),\n",
       " (array([ 0.03009106]), 'devic'),\n",
       " (array([ 0.03008964]), 'establish'),\n",
       " (array([ 0.03006618]), 'insur'),\n",
       " (array([ 0.03000411]), 'place'),\n",
       " (array([ 0.02953297]), 'simpli'),\n",
       " (array([ 0.02945952]), 'michael'),\n",
       " (array([ 0.02940476]), 'foreign'),\n",
       " (array([ 0.02916437]), 'just'),\n",
       " (array([ 0.02909551]), 'confus'),\n",
       " (array([ 0.02908607]), 'color'),\n",
       " (array([ 0.02875018]), 'plant'),\n",
       " (array([ 0.02873555]), 'idea'),\n",
       " (array([ 0.02858611]), 'certain'),\n",
       " (array([ 0.02822449]), 'proxi'),\n",
       " (array([ 0.02817979]), 'inde'),\n",
       " (array([ 0.02800297]), 'tab'),\n",
       " (array([ 0.02784003]), 'three'),\n",
       " (array([ 0.02782772]), 'exchang'),\n",
       " (array([ 0.02778748]), 'separ'),\n",
       " (array([ 0.02776915]), 'insert'),\n",
       " (array([ 0.02764769]), 'competit'),\n",
       " (array([ 0.02740545]), 'behavior'),\n",
       " (array([ 0.02739093]), 'done'),\n",
       " (array([ 0.02720837]), 'hope'),\n",
       " (array([ 0.02711893]), 'af'),\n",
       " (array([ 0.02690145]), 'warranti'),\n",
       " (array([ 0.02684823]), 'categori'),\n",
       " (array([ 0.02683344]), 'freedom'),\n",
       " (array([ 0.02639253]), 'nt'),\n",
       " (array([ 0.02637199]), 'journal'),\n",
       " (array([ 0.02634038]), 'lender'),\n",
       " (array([ 0.02626258]), 'shape'),\n",
       " (array([ 0.02622126]), 'annuiti'),\n",
       " (array([ 0.02619025]), 'function'),\n",
       " (array([ 0.02617923]), 'shell'),\n",
       " (array([ 0.02610982]), 'comput'),\n",
       " (array([ 0.02610747]), 'report'),\n",
       " (array([ 0.02584613]), 'ventur'),\n",
       " (array([ 0.02547195]), 'estim'),\n",
       " (array([ 0.02529642]), 'compat'),\n",
       " (array([ 0.02512165]), 'challeng'),\n",
       " (array([ 0.02488833]), 'impact'),\n",
       " (array([ 0.02481955]), 'substanti'),\n",
       " (array([ 0.02477639]), 'teach'),\n",
       " (array([ 0.02476935]), 'scienc'),\n",
       " (array([ 0.02462465]), 'result'),\n",
       " (array([ 0.02458443]), 'strip'),\n",
       " (array([ 0.02454807]), 'numberenumb'),\n",
       " (array([ 0.02443034]), 'plan'),\n",
       " (array([ 0.02436705]), 'els'),\n",
       " (array([ 0.02435309]), 'seed'),\n",
       " (array([ 0.0240686]), 'skin'),\n",
       " (array([ 0.02388801]), 'profil'),\n",
       " (array([ 0.02363741]), 'identifi'),\n",
       " (array([ 0.02356643]), 'ac'),\n",
       " (array([ 0.02356643]), 'output'),\n",
       " (array([ 0.02354348]), 'complet'),\n",
       " (array([ 0.02352514]), 'through'),\n",
       " (array([ 0.02349125]), 'gener'),\n",
       " (array([ 0.02336228]), 'regard'),\n",
       " (array([ 0.02326078]), 'prospect'),\n",
       " (array([ 0.02325342]), 'children'),\n",
       " (array([ 0.02320487]), 'bc'),\n",
       " (array([ 0.02313827]), 'equal'),\n",
       " (array([ 0.02312852]), 'optim'),\n",
       " (array([ 0.02303735]), 'son'),\n",
       " (array([ 0.02297648]), 'sort'),\n",
       " (array([ 0.02293941]), 'after'),\n",
       " (array([ 0.0228623]), 'statement'),\n",
       " (array([ 0.02284693]), 'someon'),\n",
       " (array([ 0.02281908]), 'util'),\n",
       " (array([ 0.02277423]), 'per'),\n",
       " (array([ 0.02255826]), 'panel'),\n",
       " (array([ 0.02237978]), 'level'),\n",
       " (array([ 0.02229308]), 'possibl'),\n",
       " (array([ 0.02213215]), 'next'),\n",
       " (array([ 0.0220256]), 'un'),\n",
       " (array([ 0.02202029]), 'eb'),\n",
       " (array([ 0.02202029]), 'fb'),\n",
       " (array([ 0.02180183]), 'ag'),\n",
       " (array([ 0.02145283]), 'colleg'),\n",
       " (array([ 0.02141805]), 'numberpx'),\n",
       " (array([ 0.02127039]), 'sit'),\n",
       " (array([ 0.02117873]), 'ab'),\n",
       " (array([ 0.02094642]), 'lifetim'),\n",
       " (array([ 0.02094176]), 'skeptic'),\n",
       " (array([ 0.02093372]), 'solv'),\n",
       " (array([ 0.02063409]), 'abl'),\n",
       " (array([ 0.02058691]), 'fulli'),\n",
       " (array([ 0.02058506]), 'usag'),\n",
       " (array([ 0.02032836]), 'why'),\n",
       " (array([ 0.02031467]), 'difficult'),\n",
       " (array([ 0.01989306]), 'perfect'),\n",
       " (array([ 0.01989214]), 'manufactur'),\n",
       " (array([ 0.0198253]), 'msg'),\n",
       " (array([ 0.01981651]), 'sport'),\n",
       " (array([ 0.01952078]), 'weapon'),\n",
       " (array([ 0.01946169]), 'anti'),\n",
       " (array([ 0.01937125]), 'assur'),\n",
       " (array([ 0.01917389]), 'statu'),\n",
       " (array([ 0.01905542]), 'phrase'),\n",
       " (array([ 0.01902826]), 'he'),\n",
       " (array([ 0.01889415]), 'outsid'),\n",
       " (array([ 0.01878456]), 'term'),\n",
       " (array([ 0.01872995]), 'instanc'),\n",
       " (array([ 0.01870559]), 'by'),\n",
       " (array([ 0.0182681]), 'height'),\n",
       " (array([ 0.01819058]), 'guid'),\n",
       " (array([ 0.01808711]), 'season'),\n",
       " (array([ 0.01800528]), 'express'),\n",
       " (array([ 0.01784234]), 'air'),\n",
       " (array([ 0.01770123]), 'convers'),\n",
       " (array([ 0.01757734]), 'affili'),\n",
       " (array([ 0.01755512]), 'provid'),\n",
       " (array([ 0.01740147]), 'piec'),\n",
       " (array([ 0.01737071]), 'central'),\n",
       " (array([ 0.01731545]), 'point'),\n",
       " (array([ 0.01724665]), 'prompt'),\n",
       " (array([ 0.01716549]), 'dev'),\n",
       " (array([ 0.0169773]), 'especi'),\n",
       " (array([ 0.01670117]), 'assum'),\n",
       " (array([ 0.01643461]), 'button'),\n",
       " (array([ 0.01628058]), 'demand'),\n",
       " (array([ 0.01617461]), 'numberst'),\n",
       " (array([ 0.01591183]), 'forget'),\n",
       " (array([ 0.01588591]), 'project'),\n",
       " (array([ 0.01584693]), 'useless'),\n",
       " (array([ 0.01573613]), 'membership'),\n",
       " (array([ 0.01571648]), 'troubl'),\n",
       " (array([ 0.01556631]), 'ratio'),\n",
       " (array([ 0.01548547]), 'knowledg'),\n",
       " (array([ 0.01524281]), 'concern'),\n",
       " (array([ 0.01517147]), 'mac'),\n",
       " (array([ 0.0151366]), 'oct'),\n",
       " (array([ 0.01511817]), 'enter'),\n",
       " (array([ 0.01502294]), 'drug'),\n",
       " (array([ 0.01497511]), 'fire'),\n",
       " (array([ 0.01489205]), 'lt'),\n",
       " (array([ 0.01486266]), 'fine'),\n",
       " (array([ 0.0148509]), 'role'),\n",
       " (array([ 0.01478203]), 'death'),\n",
       " (array([ 0.01474677]), 'feder'),\n",
       " (array([ 0.01468437]), 'exercis'),\n",
       " (array([ 0.01462586]), 'menu'),\n",
       " (array([ 0.01453632]), 'option'),\n",
       " (array([ 0.0145192]), 'hei'),\n",
       " (array([ 0.01446902]), 'drive'),\n",
       " (array([ 0.01446479]), 'visa'),\n",
       " (array([ 0.01442915]), 'fd'),\n",
       " (array([ 0.0144005]), 'main'),\n",
       " (array([ 0.01435961]), 'spain'),\n",
       " (array([ 0.01417645]), 'dream'),\n",
       " (array([ 0.01408862]), 'jame'),\n",
       " (array([ 0.01385924]), 'along'),\n",
       " (array([ 0.01365623]), 'backup'),\n",
       " (array([ 0.01357043]), 'known'),\n",
       " (array([ 0.01343491]), 'intern'),\n",
       " (array([ 0.01318841]), 'keep'),\n",
       " (array([ 0.01317416]), 'war'),\n",
       " (array([ 0.01314358]), 'setup'),\n",
       " (array([ 0.01304976]), 'broker'),\n",
       " (array([ 0.01295325]), 'full'),\n",
       " (array([ 0.01288834]), 'xp'),\n",
       " (array([ 0.01284678]), 'edg'),\n",
       " (array([ 0.01277024]), 'build'),\n",
       " (array([ 0.01274996]), 'leader'),\n",
       " (array([ 0.01260863]), 'gt'),\n",
       " (array([ 0.01229993]), 'spot'),\n",
       " (array([ 0.01225948]), 'jump'),\n",
       " (array([ 0.01221998]), 'mean'),\n",
       " (array([ 0.01218272]), 'correspond'),\n",
       " (array([ 0.0121345]), 'suffer'),\n",
       " (array([ 0.01197898]), 'construct'),\n",
       " (array([ 0.01195325]), 'unsubscrib'),\n",
       " (array([ 0.01188674]), 'compar'),\n",
       " (array([ 0.01188174]), 'agreement'),\n",
       " (array([ 0.01177356]), 'like'),\n",
       " (array([ 0.01168987]), 'compet'),\n",
       " (array([ 0.01161169]), 'directori'),\n",
       " (array([ 0.01139378]), 'firm'),\n",
       " (array([ 0.01126497]), 'nobodi'),\n",
       " (array([ 0.01103129]), 'couldn'),\n",
       " (array([ 0.01071522]), 'yesterdai'),\n",
       " (array([ 0.01070898]), 'regul'),\n",
       " (array([ 0.01070011]), 'nigeria'),\n",
       " (array([ 0.0102702]), 'retail'),\n",
       " (array([ 0.01022654]), 'perfectli'),\n",
       " (array([ 0.01012641]), 'sun'),\n",
       " (array([ 0.01001038]), 'ec'),\n",
       " (array([ 0.01000976]), 'french'),\n",
       " (array([ 0.01000825]), 'extens'),\n",
       " (array([ 0.0099974]), 'vacat'),\n",
       " (array([ 0.00999301]), 'across'),\n",
       " (array([ 0.00992982]), 'topic'),\n",
       " (array([ 0.0097509]), 'paul'),\n",
       " (array([ 0.00961652]), 'editor'),\n",
       " (array([ 0.00957711]), 'middl'),\n",
       " (array([ 0.00937064]), 'round'),\n",
       " (array([ 0.00933558]), 'corpor'),\n",
       " (array([ 0.00926778]), 'updat'),\n",
       " (array([ 0.00923686]), 'write'),\n",
       " (array([ 0.00915427]), 'toll'),\n",
       " (array([ 0.00911989]), 'threat'),\n",
       " (array([ 0.00910706]), 'loan'),\n",
       " (array([ 0.00906798]), 'merchant'),\n",
       " (array([ 0.00875718]), 'match'),\n",
       " (array([ 0.00871566]), 'broadcast'),\n",
       " (array([ 0.00871042]), 'carri'),\n",
       " (array([ 0.00866352]), 'king'),\n",
       " (array([ 0.0086442]), 'cheap'),\n",
       " (array([ 0.00855565]), 'trick'),\n",
       " (array([ 0.00855424]), 'comprehens'),\n",
       " (array([ 0.00855423]), 'billion'),\n",
       " (array([ 0.00826137]), 'extra'),\n",
       " (array([ 0.00820282]), 'effort'),\n",
       " (array([ 0.00815229]), 'six'),\n",
       " (array([ 0.0081276]), 'password'),\n",
       " (array([ 0.00811862]), 'rss'),\n",
       " (array([ 0.0081114]), 'concentr'),\n",
       " (array([ 0.00796399]), 'echo'),\n",
       " (array([ 0.00785614]), 'chri'),\n",
       " (array([ 0.0077846]), 'exactli'),\n",
       " (array([ 0.00769323]), 'commerci'),\n",
       " (array([ 0.00768848]), 'shop'),\n",
       " (array([ 0.00762576]), 'sensit'),\n",
       " (array([ 0.00733174]), 'product'),\n",
       " (array([ 0.00729599]), 'four'),\n",
       " (array([ 0.00728097]), 'win'),\n",
       " (array([ 0.00727618]), 'peac'),\n",
       " (array([ 0.00725134]), 'rest'),\n",
       " (array([ 0.00718815]), 'gnome'),\n",
       " (array([ 0.00716992]), 'knew'),\n",
       " (array([ 0.00706286]), 'printer'),\n",
       " (array([ 0.00701303]), 'mailer'),\n",
       " (array([ 0.00687015]), 'check'),\n",
       " (array([ 0.00685813]), 'templ'),\n",
       " (array([ 0.00685813]), 'seventh'),\n",
       " (array([ 0.00685813]), 'ragga'),\n",
       " (array([ 0.00685813]), 'intro'),\n",
       " (array([ 0.00685813]), 'herba'),\n",
       " (array([ 0.00685813]), 'dagga'),\n",
       " (array([ 0.00685813]), 'capillari'),\n",
       " (array([ 0.00673936]), 'god'),\n",
       " (array([ 0.00666136]), 'militari'),\n",
       " (array([ 0.0064573]), 'permiss'),\n",
       " (array([ 0.00641034]), 'prize'),\n",
       " (array([ 0.00627985]), 'fridai'),\n",
       " (array([ 0.00625946]), 'pre'),\n",
       " (array([ 0.0062572]), 'length'),\n",
       " (array([ 0.0061081]), 'land'),\n",
       " (array([ 0.00604228]), 'traffic'),\n",
       " (array([ 0.00601458]), 'unfortun'),\n",
       " (array([ 0.00599282]), 'goal'),\n",
       " (array([ 0.00577497]), 'respond'),\n",
       " (array([ 0.0055709]), 'entri'),\n",
       " (array([ 0.00555871]), 'cut'),\n",
       " (array([ 0.00533425]), 'eventu'),\n",
       " (array([ 0.00529791]), 'wing'),\n",
       " (array([ 0.00526441]), 'open'),\n",
       " (array([ 0.00525582]), 'headlin'),\n",
       " (array([ 0.00477239]), 'car'),\n",
       " (array([ 0.00452912]), 'structur'),\n",
       " (array([ 0.00437511]), 'modem'),\n",
       " (array([ 0.00425538]), 'discuss'),\n",
       " (array([ 0.00425198]), 'anywher'),\n",
       " (array([ 0.00404711]), 'centuri'),\n",
       " (array([ 0.00391559]), 'applic'),\n",
       " (array([ 0.0038517]), 'cc'),\n",
       " (array([ 0.003773]), 'behind'),\n",
       " (array([ 0.00353062]), 'attent'),\n",
       " (array([ 0.00350659]), 'as'),\n",
       " (array([ 0.00346257]), 'declar'),\n",
       " (array([ 0.00316102]), 'arm'),\n",
       " (array([ 0.00308434]), 'former'),\n",
       " (array([ 0.00301436]), 'dial'),\n",
       " (array([ 0.00296749]), 'hate'),\n",
       " (array([ 0.00286189]), 'babi'),\n",
       " (array([ 0.00254686]), 'wake'),\n",
       " (array([ 0.00240171]), 'memori'),\n",
       " (array([ 0.00224763]), 'obvious'),\n",
       " (array([ 0.00208168]), 'ae'),\n",
       " (array([ 0.00192129]), 'map'),\n",
       " (array([ 0.00186923]), 'anybodi'),\n",
       " (array([ 0.00182261]), 'cool'),\n",
       " (array([ 0.00159275]), 'align'),\n",
       " (array([ 0.00159275]), 'helvetica'),\n",
       " (array([ 0.00159275]), 'arial'),\n",
       " (array([ 0.00159275]), 'serif'),\n",
       " (array([ 0.00156067]), 'few'),\n",
       " (array([ 0.00155179]), 'award'),\n",
       " (array([ 0.00141311]), 'phone'),\n",
       " (array([ 0.00124887]), 'collect'),\n",
       " (array([ 0.00124114]), 'bb'),\n",
       " (array([ 0.00123076]), 'bd'),\n",
       " (array([ 0.00118988]), 'english'),\n",
       " (array([ 0.00118459]), 'hermio'),\n",
       " (array([ 0.00118459]), 'enenkio'),\n",
       " (array([ 0.00118459]), 'atol'),\n",
       " (array([ 0.00087217]), 'inform'),\n",
       " (array([ 0.00080069]), 'understand'),\n",
       " (array([ 0.00079832]), 'decis'),\n",
       " (array([ 0.00064924]), 'procedur'),\n",
       " (array([ 0.00063532]), 'grant'),\n",
       " (array([ 0.00056]), 'europ'),\n",
       " (array([ 0.00041784]), 'area'),\n",
       " (array([ 0.00020869]), 'task'),\n",
       " (array([ 0.00020111]), 'roman'),\n",
       " (array([  4.79142310e-06]), 'solut'),\n",
       " (array([  9.66084420e-07]), 'vs'),\n",
       " (array([  3.46944695e-18]), 'suspect'),\n",
       " (array([  1.73472348e-18]), 'null'),\n",
       " (array([  1.73472348e-18]), 'app'),\n",
       " (array([  1.30104261e-18]), 'var'),\n",
       " (array([  1.30104261e-18]), 'toni'),\n",
       " (array([  8.67361738e-19]), 'input'),\n",
       " (array([  4.33680869e-19]), 'pudg'),\n",
       " (array([  4.33680869e-19]), 'numberffont'),\n",
       " (array([  4.33680869e-19]), 'numberfb'),\n",
       " (array([  4.33680869e-19]), 'numberdari'),\n",
       " (array([  4.33680869e-19]), 'numbercp'),\n",
       " (array([  4.33680869e-19]), 'numbercli'),\n",
       " (array([  4.33680869e-19]), 'numbercfont'),\n",
       " (array([  4.33680869e-19]), 'numbercbr'),\n",
       " (array([  4.33680869e-19]), 'numbercb'),\n",
       " (array([  4.33680869e-19]), 'char'),\n",
       " (array([ 0.]), 'wnumberp'),\n",
       " (array([ 0.]), 'usr'),\n",
       " (array([ 0.]), 'unison'),\n",
       " (array([ 0.]), 'toner'),\n",
       " (array([ 0.]), 'suse'),\n",
       " (array([ 0.]), 'spamd'),\n",
       " (array([ 0.]), 'sendmail'),\n",
       " (array([ 0.]), 'razornumb'),\n",
       " (array([ 0.]), 'powel'),\n",
       " (array([ 0.]), 'pjnumber'),\n",
       " (array([ 0.]), 'piiiiiiii'),\n",
       " (array([ 0.]), 'partit'),\n",
       " (array([ 0.]), 'numberpd'),\n",
       " (array([ 0.]), 'numberftd'),\n",
       " (array([ 0.]), 'numberfp'),\n",
       " (array([ 0.]), 'numberctd'),\n",
       " (array([ 0.]), 'jnumberiiiiiiihepihepihf'),\n",
       " (array([ 0.]), 'iiiiiiihnumberjnumberhnumberjnumberhnumb'),\n",
       " (array([ 0.]), 'idnumb'),\n",
       " (array([ 0.]), 'gpl'),\n",
       " (array([ 0.]), 'garrigu'),\n",
       " (array([ 0.]), 'ftoc'),\n",
       " (array([ 0.]), 'dw'),\n",
       " (array([ 0.]), 'dollarac'),\n",
       " (array([ 0.]), 'doer'),\n",
       " (array([ 0.]), 'config'),\n",
       " (array([ 0.]), 'cartridg'),\n",
       " (array([ 0.]), 'alsa'),\n",
       " (array([ 0.]), 'alb'),\n",
       " (array([ -6.77626358e-20]), 'string'),\n",
       " (array([ -1.08420217e-19]), 'lockergnom'),\n",
       " (array([ -8.67361738e-19]), 'consolid'),\n",
       " (array([ -1.73472348e-18]), 'src'),\n",
       " (array([ -2.16840434e-18]), 'dn'),\n",
       " (array([ -7.90426751e-06]), 'snumber'),\n",
       " (array([-0.00012773]), 'fat'),\n",
       " (array([-0.0004229]), 'smtp'),\n",
       " (array([-0.0004229]), 'datapow'),\n",
       " (array([-0.0004229]), 'byte'),\n",
       " (array([-0.00046945]), 'drop'),\n",
       " (array([-0.00072054]), 'doubt'),\n",
       " (array([-0.00080512]), 'multipl'),\n",
       " (array([-0.0008184]), 'help'),\n",
       " (array([-0.00084156]), 'gone'),\n",
       " (array([-0.00084156]), 'thread'),\n",
       " (array([-0.00084156]), 'aa'),\n",
       " (array([-0.00085362]), 'boss'),\n",
       " (array([-0.00086425]), 'mayb'),\n",
       " (array([-0.00096403]), 'popular'),\n",
       " (array([-0.0009756]), 'graphic'),\n",
       " (array([-0.00099531]), 'owner'),\n",
       " (array([-0.00107716]), 'ma'),\n",
       " (array([-0.00107779]), 'march'),\n",
       " (array([-0.0011083]), 'matthia'),\n",
       " (array([-0.0011083]), 'saou'),\n",
       " (array([-0.0011083]), 'freshrpm'),\n",
       " (array([-0.00123456]), 'mostli'),\n",
       " (array([-0.00123513]), 'some'),\n",
       " (array([-0.00128763]), 'purchas'),\n",
       " (array([-0.00136076]), 'spec'),\n",
       " (array([-0.00136692]), 'bar'),\n",
       " (array([-0.00137937]), 'black'),\n",
       " (array([-0.00152454]), 'cd'),\n",
       " (array([-0.0015572]), 'numberff'),\n",
       " (array([-0.00166023]), 'happen'),\n",
       " (array([-0.00177485]), 'vendor'),\n",
       " (array([-0.00181356]), 'think'),\n",
       " (array([-0.0020913]), 'core'),\n",
       " (array([-0.00223559]), 'botan'),\n",
       " (array([-0.00235811]), 'detail'),\n",
       " (array([-0.00240716]), 'goe'),\n",
       " ...]"
      ]
     },
     "execution_count": 65,
     "metadata": {},
     "output_type": "execute_result"
    }
   ],
   "source": [
    "s"
   ]
  },
  {
   "cell_type": "code",
   "execution_count": null,
   "metadata": {
    "collapsed": false
   },
   "outputs": [],
   "source": []
  }
 ],
 "metadata": {
  "kernelspec": {
   "display_name": "Python 2",
   "language": "python",
   "name": "python2"
  },
  "language_info": {
   "codemirror_mode": {
    "name": "ipython",
    "version": 2
   },
   "file_extension": ".py",
   "mimetype": "text/x-python",
   "name": "python",
   "nbconvert_exporter": "python",
   "pygments_lexer": "ipython2",
   "version": "2.7.11"
  }
 },
 "nbformat": 4,
 "nbformat_minor": 0
}
